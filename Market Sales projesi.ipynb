{
 "cells": [
  {
   "cell_type": "markdown",
   "id": "194d29de",
   "metadata": {},
   "source": [
    "Gerekli kütüphanelerin yüklenmesi"
   ]
  },
  {
   "cell_type": "code",
   "execution_count": 1,
   "id": "97d9b9df",
   "metadata": {},
   "outputs": [],
   "source": [
    "# kütüphaneleri import edelim\n",
    "import pandas as pd\n",
    "import matplotlib.pyplot as plt\n",
    "import numpy as np\n",
    "from collections import Counter\n",
    "\n",
    "# pythondaki uyarıları kapatmak için\n",
    "import warnings\n",
    "warnings.filterwarnings('ignore')\n",
    "import missingno as msno\n",
    "from datetime import date\n",
    "from sklearn.metrics import accuracy_score\n",
    "from sklearn.model_selection import train_test_split\n",
    "from sklearn.neighbors import LocalOutlierFactor\n",
    "from sklearn.preprocessing import MinMaxScaler, LabelEncoder, StandardScaler, RobustScaler\n",
    "\n",
    "pd.set_option('display.max_columns', None)\n",
    "pd.set_option('display.max_rows', None)\n",
    "pd.set_option('display.float_format', lambda x: '%.3f' % x)\n",
    "pd.set_option('display.width', 500)"
   ]
  },
  {
   "cell_type": "markdown",
   "id": "c401b92f",
   "metadata": {},
   "source": [
    "Verinin yüklenmesi"
   ]
  },
  {
   "cell_type": "code",
   "execution_count": 2,
   "id": "a7ef1108",
   "metadata": {},
   "outputs": [],
   "source": [
    "df= pd.read_excel('MarketSales.xlsx')"
   ]
  },
  {
   "cell_type": "markdown",
   "id": "a572da13",
   "metadata": {},
   "source": [
    "Veriye ilk bakış "
   ]
  },
  {
   "cell_type": "code",
   "execution_count": 3,
   "id": "6c7178a6",
   "metadata": {
    "scrolled": true
   },
   "outputs": [
    {
     "data": {
      "text/html": [
       "<div>\n",
       "<style scoped>\n",
       "    .dataframe tbody tr th:only-of-type {\n",
       "        vertical-align: middle;\n",
       "    }\n",
       "\n",
       "    .dataframe tbody tr th {\n",
       "        vertical-align: top;\n",
       "    }\n",
       "\n",
       "    .dataframe thead th {\n",
       "        text-align: right;\n",
       "    }\n",
       "</style>\n",
       "<table border=\"1\" class=\"dataframe\">\n",
       "  <thead>\n",
       "    <tr style=\"text-align: right;\">\n",
       "      <th></th>\n",
       "      <th>ID</th>\n",
       "      <th>ITEMCODE</th>\n",
       "      <th>ITEMNAME</th>\n",
       "      <th>FICHENO</th>\n",
       "      <th>DATE_</th>\n",
       "      <th>AMOUNT</th>\n",
       "      <th>PRICE</th>\n",
       "      <th>LINENETTOTAL</th>\n",
       "      <th>LINENET</th>\n",
       "      <th>BRANCHNR</th>\n",
       "      <th>BRANCH</th>\n",
       "      <th>SALESMAN</th>\n",
       "      <th>CITY</th>\n",
       "      <th>REGION</th>\n",
       "      <th>LATITUDE</th>\n",
       "      <th>LONGITUDE</th>\n",
       "      <th>CLIENTCODE</th>\n",
       "      <th>CLIENTNAME</th>\n",
       "      <th>BRANDCODE</th>\n",
       "      <th>BRAND</th>\n",
       "      <th>CATEGORY_NAME1</th>\n",
       "      <th>CATEGORY_NAME2</th>\n",
       "      <th>CATEGORY_NAME3</th>\n",
       "      <th>STARTDATE</th>\n",
       "      <th>ENDDATE</th>\n",
       "      <th>GENDER</th>\n",
       "    </tr>\n",
       "  </thead>\n",
       "  <tbody>\n",
       "    <tr>\n",
       "      <th>0</th>\n",
       "      <td>11738.000</td>\n",
       "      <td>5863.000</td>\n",
       "      <td>SPRITE 1 LT LIMON AROMALI GAZOZ</td>\n",
       "      <td>18456</td>\n",
       "      <td>2017-01-07</td>\n",
       "      <td>1.000</td>\n",
       "      <td>2.000</td>\n",
       "      <td>2.000</td>\n",
       "      <td>1.850</td>\n",
       "      <td>52.000</td>\n",
       "      <td>Kocaeli Subesi</td>\n",
       "      <td>Eyüp CİNE</td>\n",
       "      <td>Kocaeli</td>\n",
       "      <td>Marmara</td>\n",
       "      <td>40.853</td>\n",
       "      <td>29.881</td>\n",
       "      <td>467369</td>\n",
       "      <td>Sercan KIZILOK</td>\n",
       "      <td>156</td>\n",
       "      <td>SPRİTE</td>\n",
       "      <td>İÇECEK</td>\n",
       "      <td>GAZLI İÇECEK</td>\n",
       "      <td>GAZOZ</td>\n",
       "      <td>2017-01-08 16:16:11</td>\n",
       "      <td>2017-01-08 16:17:13</td>\n",
       "      <td>E</td>\n",
       "    </tr>\n",
       "    <tr>\n",
       "      <th>1</th>\n",
       "      <td>10537.000</td>\n",
       "      <td>8.000</td>\n",
       "      <td>TOZ SEKER</td>\n",
       "      <td>18105</td>\n",
       "      <td>2017-01-06</td>\n",
       "      <td>5.000</td>\n",
       "      <td>2.650</td>\n",
       "      <td>13.250</td>\n",
       "      <td>12.270</td>\n",
       "      <td>8.000</td>\n",
       "      <td>Antalya Subesi</td>\n",
       "      <td>İlhan ÖRENLİ</td>\n",
       "      <td>Antalya</td>\n",
       "      <td>Akdeniz</td>\n",
       "      <td>36.884</td>\n",
       "      <td>30.706</td>\n",
       "      <td>131464</td>\n",
       "      <td>İsmet ŞINGIR</td>\n",
       "      <td>NaN</td>\n",
       "      <td>NaN</td>\n",
       "      <td>İÇECEK</td>\n",
       "      <td>ÇAY KAHVE</td>\n",
       "      <td>SEKER TATLANDIRICI</td>\n",
       "      <td>2017-01-07 11:04:34</td>\n",
       "      <td>2017-01-07 11:05:37</td>\n",
       "      <td>E</td>\n",
       "    </tr>\n",
       "    <tr>\n",
       "      <th>2</th>\n",
       "      <td>11335.000</td>\n",
       "      <td>5979.000</td>\n",
       "      <td>FALIM SAKIZ 5LI NANE</td>\n",
       "      <td>18350</td>\n",
       "      <td>2017-01-03</td>\n",
       "      <td>1.000</td>\n",
       "      <td>0.400</td>\n",
       "      <td>0.400</td>\n",
       "      <td>0.370</td>\n",
       "      <td>40.000</td>\n",
       "      <td>İstanbul Subesi</td>\n",
       "      <td>İsmet SARTIK</td>\n",
       "      <td>İstanbul</td>\n",
       "      <td>Marmara</td>\n",
       "      <td>41.005</td>\n",
       "      <td>28.977</td>\n",
       "      <td>656969</td>\n",
       "      <td>Yağız KUBAL</td>\n",
       "      <td>300</td>\n",
       "      <td>FALIM</td>\n",
       "      <td>GIDA</td>\n",
       "      <td>SAKIZ SEKERLEME</td>\n",
       "      <td>SAKIZ</td>\n",
       "      <td>2017-01-04 14:00:03</td>\n",
       "      <td>2017-01-04 14:01:01</td>\n",
       "      <td>E</td>\n",
       "    </tr>\n",
       "    <tr>\n",
       "      <th>3</th>\n",
       "      <td>11336.000</td>\n",
       "      <td>5979.000</td>\n",
       "      <td>FALIM SAKIZ 5LI NANE</td>\n",
       "      <td>18350</td>\n",
       "      <td>2017-01-03</td>\n",
       "      <td>1.000</td>\n",
       "      <td>0.400</td>\n",
       "      <td>0.400</td>\n",
       "      <td>0.370</td>\n",
       "      <td>40.000</td>\n",
       "      <td>İstanbul Subesi</td>\n",
       "      <td>İsmet SARTIK</td>\n",
       "      <td>İstanbul</td>\n",
       "      <td>Marmara</td>\n",
       "      <td>41.005</td>\n",
       "      <td>28.977</td>\n",
       "      <td>656969</td>\n",
       "      <td>Yağız KUBAL</td>\n",
       "      <td>300</td>\n",
       "      <td>FALIM</td>\n",
       "      <td>GIDA</td>\n",
       "      <td>SAKIZ SEKERLEME</td>\n",
       "      <td>SAKIZ</td>\n",
       "      <td>2017-01-04 14:00:03</td>\n",
       "      <td>2017-01-04 14:01:01</td>\n",
       "      <td>E</td>\n",
       "    </tr>\n",
       "    <tr>\n",
       "      <th>4</th>\n",
       "      <td>10115.000</td>\n",
       "      <td>12808.000</td>\n",
       "      <td>FALIM SAKIZ 5LI CILEK</td>\n",
       "      <td>18005</td>\n",
       "      <td>2017-01-05</td>\n",
       "      <td>1.000</td>\n",
       "      <td>0.400</td>\n",
       "      <td>0.400</td>\n",
       "      <td>0.370</td>\n",
       "      <td>41.000</td>\n",
       "      <td>İzmir Subesi</td>\n",
       "      <td>Gülten IŞLAK</td>\n",
       "      <td>İzmir</td>\n",
       "      <td>Ege</td>\n",
       "      <td>38.419</td>\n",
       "      <td>27.129</td>\n",
       "      <td>447336</td>\n",
       "      <td>Habibe AYSAN</td>\n",
       "      <td>300</td>\n",
       "      <td>FALIM</td>\n",
       "      <td>GIDA</td>\n",
       "      <td>SAKIZ SEKERLEME</td>\n",
       "      <td>SAKIZ</td>\n",
       "      <td>2017-01-06 14:00:30</td>\n",
       "      <td>2017-01-06 14:01:03</td>\n",
       "      <td>K</td>\n",
       "    </tr>\n",
       "  </tbody>\n",
       "</table>\n",
       "</div>"
      ],
      "text/plain": [
       "         ID  ITEMCODE                         ITEMNAME  FICHENO      DATE_  AMOUNT  PRICE  LINENETTOTAL  LINENET  BRANCHNR           BRANCH      SALESMAN      CITY   REGION  LATITUDE  LONGITUDE CLIENTCODE      CLIENTNAME BRANDCODE   BRAND CATEGORY_NAME1   CATEGORY_NAME2      CATEGORY_NAME3           STARTDATE             ENDDATE GENDER\n",
       "0 11738.000  5863.000  SPRITE 1 LT LIMON AROMALI GAZOZ    18456 2017-01-07   1.000  2.000         2.000    1.850    52.000   Kocaeli Subesi     Eyüp CİNE   Kocaeli  Marmara    40.853     29.881     467369  Sercan KIZILOK       156  SPRİTE         İÇECEK     GAZLI İÇECEK               GAZOZ 2017-01-08 16:16:11 2017-01-08 16:17:13      E\n",
       "1 10537.000     8.000                        TOZ SEKER    18105 2017-01-06   5.000  2.650        13.250   12.270     8.000   Antalya Subesi  İlhan ÖRENLİ   Antalya  Akdeniz    36.884     30.706     131464    İsmet ŞINGIR       NaN     NaN         İÇECEK        ÇAY KAHVE  SEKER TATLANDIRICI 2017-01-07 11:04:34 2017-01-07 11:05:37      E\n",
       "2 11335.000  5979.000             FALIM SAKIZ 5LI NANE    18350 2017-01-03   1.000  0.400         0.400    0.370    40.000  İstanbul Subesi  İsmet SARTIK  İstanbul  Marmara    41.005     28.977     656969     Yağız KUBAL       300   FALIM           GIDA  SAKIZ SEKERLEME               SAKIZ 2017-01-04 14:00:03 2017-01-04 14:01:01      E\n",
       "3 11336.000  5979.000             FALIM SAKIZ 5LI NANE    18350 2017-01-03   1.000  0.400         0.400    0.370    40.000  İstanbul Subesi  İsmet SARTIK  İstanbul  Marmara    41.005     28.977     656969     Yağız KUBAL       300   FALIM           GIDA  SAKIZ SEKERLEME               SAKIZ 2017-01-04 14:00:03 2017-01-04 14:01:01      E\n",
       "4 10115.000 12808.000            FALIM SAKIZ 5LI CILEK    18005 2017-01-05   1.000  0.400         0.400    0.370    41.000     İzmir Subesi  Gülten IŞLAK     İzmir      Ege    38.419     27.129     447336    Habibe AYSAN       300   FALIM           GIDA  SAKIZ SEKERLEME               SAKIZ 2017-01-06 14:00:30 2017-01-06 14:01:03      K"
      ]
     },
     "execution_count": 3,
     "metadata": {},
     "output_type": "execute_result"
    }
   ],
   "source": [
    "df.head()"
   ]
  },
  {
   "cell_type": "code",
   "execution_count": 4,
   "id": "ac5a4e9c",
   "metadata": {},
   "outputs": [
    {
     "name": "stdout",
     "output_type": "stream",
     "text": [
      "<class 'pandas.core.frame.DataFrame'>\n",
      "RangeIndex: 611108 entries, 0 to 611107\n",
      "Data columns (total 26 columns):\n",
      " #   Column          Non-Null Count   Dtype         \n",
      "---  ------          --------------   -----         \n",
      " 0   ID              611107 non-null  float64       \n",
      " 1   ITEMCODE        603941 non-null  float64       \n",
      " 2   ITEMNAME        603941 non-null  object        \n",
      " 3   FICHENO         611108 non-null  int64         \n",
      " 4   DATE_           611107 non-null  datetime64[ns]\n",
      " 5   AMOUNT          611107 non-null  float64       \n",
      " 6   PRICE           611107 non-null  float64       \n",
      " 7   LINENETTOTAL    611107 non-null  float64       \n",
      " 8   LINENET         611107 non-null  float64       \n",
      " 9   BRANCHNR        611107 non-null  float64       \n",
      " 10  BRANCH          611107 non-null  object        \n",
      " 11  SALESMAN        611108 non-null  object        \n",
      " 12  CITY            611107 non-null  object        \n",
      " 13  REGION          611107 non-null  object        \n",
      " 14  LATITUDE        611107 non-null  float64       \n",
      " 15  LONGITUDE       611107 non-null  float64       \n",
      " 16  CLIENTCODE      592760 non-null  object        \n",
      " 17  CLIENTNAME      592743 non-null  object        \n",
      " 18  BRANDCODE       575551 non-null  object        \n",
      " 19  BRAND           575551 non-null  object        \n",
      " 20  CATEGORY_NAME1  603941 non-null  object        \n",
      " 21  CATEGORY_NAME2  583448 non-null  object        \n",
      " 22  CATEGORY_NAME3  401649 non-null  object        \n",
      " 23  STARTDATE       611108 non-null  datetime64[ns]\n",
      " 24  ENDDATE         611108 non-null  datetime64[ns]\n",
      " 25  GENDER          592743 non-null  object        \n",
      "dtypes: datetime64[ns](3), float64(9), int64(1), object(13)\n",
      "memory usage: 121.2+ MB\n"
     ]
    }
   ],
   "source": [
    "df.info()"
   ]
  },
  {
   "cell_type": "code",
   "execution_count": 5,
   "id": "4d04e818",
   "metadata": {},
   "outputs": [
    {
     "data": {
      "text/plain": [
       "(611108, 26)"
      ]
     },
     "execution_count": 5,
     "metadata": {},
     "output_type": "execute_result"
    }
   ],
   "source": [
    "df.shape"
   ]
  },
  {
   "cell_type": "code",
   "execution_count": 6,
   "id": "76f0232a",
   "metadata": {},
   "outputs": [
    {
     "data": {
      "text/plain": [
       "CATEGORY_NAME3    209459\n",
       "BRAND              35557\n",
       "BRANDCODE          35557\n",
       "CATEGORY_NAME2     27660\n",
       "GENDER             18365\n",
       "CLIENTNAME         18365\n",
       "CLIENTCODE         18348\n",
       "ITEMCODE            7167\n",
       "ITEMNAME            7167\n",
       "CATEGORY_NAME1      7167\n",
       "LONGITUDE              1\n",
       "LATITUDE               1\n",
       "ID                     1\n",
       "CITY                   1\n",
       "BRANCH                 1\n",
       "BRANCHNR               1\n",
       "LINENET                1\n",
       "LINENETTOTAL           1\n",
       "PRICE                  1\n",
       "AMOUNT                 1\n",
       "DATE_                  1\n",
       "REGION                 1\n",
       "SALESMAN               0\n",
       "FICHENO                0\n",
       "STARTDATE              0\n",
       "ENDDATE                0\n",
       "dtype: int64"
      ]
     },
     "execution_count": 6,
     "metadata": {},
     "output_type": "execute_result"
    }
   ],
   "source": [
    "df.isnull().sum().sort_values(ascending=False)"
   ]
  },
  {
   "cell_type": "markdown",
   "id": "0a73ccf4",
   "metadata": {},
   "source": [
    "Kolon isimlerin türkçeleştirilmesi Power BI de rapor hazırlancaksa"
   ]
  },
  {
   "cell_type": "code",
   "execution_count": 7,
   "id": "5eb10fcc",
   "metadata": {},
   "outputs": [],
   "source": [
    "df = df.rename(columns={\n",
    "    'ID': 'ID',\n",
    "    'ITEMCODE': 'ÜrünKodu',\n",
    "    'ITEMNAME': 'ÜrünAdı',\n",
    "    'FICHENO': 'FişNo',\n",
    "    'DATE_': 'Tarih',\n",
    "    'AMOUNT': 'Miktar',\n",
    "    'PRICE': 'Fiyat',\n",
    "    'LINENETTOTAL': 'ToplamNetSatış',\n",
    "    'LINENET': 'NetSatış',\n",
    "    'BRANCHNR': 'ŞubeNo',\n",
    "    'BRANCH': 'Şube',\n",
    "    'SALESMAN': 'SatışElemanı',\n",
    "    'CITY': 'Şehir',\n",
    "    'REGION': 'Bölge',\n",
    "    'LATITUDE': 'Enlem',\n",
    "    'LONGITUDE': 'Boylam',\n",
    "    'CLIENTCODE': 'MüşteriKodu',\n",
    "    'CLIENTNAME': 'MüşteriAdı',\n",
    "    'BRANDCODE': 'MarkaKodu',\n",
    "    'BRAND': 'Marka',\n",
    "    'CATEGORY_NAME1': 'KategoriAdı1',\n",
    "    'CATEGORY_NAME2': 'KategoriAdı2',\n",
    "    'CATEGORY_NAME3': 'KategoriAdı3',\n",
    "    'STARTDATE': 'BaşlangıçTarihi',\n",
    "    'ENDDATE': 'BitişTarihi',\n",
    "    'GENDER': 'Cinsiyet'\n",
    "})"
   ]
  },
  {
   "cell_type": "markdown",
   "id": "4edddb52",
   "metadata": {},
   "source": [
    "Eksik Verilerin Analiz Edilmesi"
   ]
  },
  {
   "cell_type": "markdown",
   "id": "5935dea4",
   "metadata": {},
   "source": [
    "MarkaKodu, Marka, KategoriAdı1,KategoriAdı2,KategoriAdı3\n",
    "Bu beş kolon birbiri ile baglantılı oldugu için beş kolonunda boş oldugu sütünları veriden düşürüyoruz çünkü tahmin edilecek deger bulunamadıgı için"
   ]
  },
  {
   "cell_type": "code",
   "execution_count": 8,
   "id": "b938b06c",
   "metadata": {},
   "outputs": [
    {
     "data": {
      "text/plain": [
       "7167"
      ]
     },
     "execution_count": 8,
     "metadata": {},
     "output_type": "execute_result"
    }
   ],
   "source": [
    "total_null_in_selected_columns = df[['MarkaKodu', 'Marka', 'KategoriAdı1', 'KategoriAdı2','KategoriAdı3']].isnull().all(axis=1).sum()\n",
    "total_null_in_selected_columns"
   ]
  },
  {
   "cell_type": "code",
   "execution_count": 9,
   "id": "a9697504",
   "metadata": {},
   "outputs": [],
   "source": [
    "df.dropna(subset=['MarkaKodu', 'Marka', 'KategoriAdı1', 'KategoriAdı2', 'KategoriAdı3'], how='all', inplace=True)\n"
   ]
  },
  {
   "cell_type": "code",
   "execution_count": 10,
   "id": "a79abb2c",
   "metadata": {},
   "outputs": [
    {
     "data": {
      "text/plain": [
       "KategoriAdı3       202292\n",
       "Marka               28390\n",
       "MarkaKodu           28390\n",
       "KategoriAdı2        20493\n",
       "Cinsiyet            18137\n",
       "MüşteriAdı          18137\n",
       "MüşteriKodu         18120\n",
       "ÜrünKodu                0\n",
       "BitişTarihi             0\n",
       "BaşlangıçTarihi         0\n",
       "KategoriAdı1            0\n",
       "Boylam                  0\n",
       "Enlem                   0\n",
       "ID                      0\n",
       "Şehir                   0\n",
       "SatışElemanı            0\n",
       "Şube                    0\n",
       "ŞubeNo                  0\n",
       "NetSatış                0\n",
       "ToplamNetSatış          0\n",
       "Fiyat                   0\n",
       "Miktar                  0\n",
       "Tarih                   0\n",
       "FişNo                   0\n",
       "ÜrünAdı                 0\n",
       "Bölge                   0\n",
       "dtype: int64"
      ]
     },
     "execution_count": 10,
     "metadata": {},
     "output_type": "execute_result"
    }
   ],
   "source": [
    "df.isnull().sum().sort_values(ascending=False)"
   ]
  },
  {
   "cell_type": "markdown",
   "id": "2460bfd5",
   "metadata": {},
   "source": [
    "Aynı şekilde bu üç kolondaki degerlerde birbirleriyle baglantılı oldugu için hepsinin boş oldugu satırları düşürüyoruz"
   ]
  },
  {
   "cell_type": "code",
   "execution_count": 11,
   "id": "8dc4c0bc",
   "metadata": {},
   "outputs": [
    {
     "data": {
      "text/plain": [
       "18120"
      ]
     },
     "execution_count": 11,
     "metadata": {},
     "output_type": "execute_result"
    }
   ],
   "source": [
    "total_null_in_selected_columns2 = df[[ 'MüşteriAdı', 'MüşteriKodu','Cinsiyet']].isnull().all(axis=1).sum()\n",
    "total_null_in_selected_columns2"
   ]
  },
  {
   "cell_type": "code",
   "execution_count": 12,
   "id": "41c7c24f",
   "metadata": {},
   "outputs": [],
   "source": [
    "df.dropna(subset=[ 'MüşteriAdı', 'MüşteriKodu','Cinsiyet'], how='all', inplace=True)"
   ]
  },
  {
   "cell_type": "code",
   "execution_count": 13,
   "id": "46bd377e",
   "metadata": {},
   "outputs": [
    {
     "data": {
      "text/plain": [
       "KategoriAdı3       196173\n",
       "Marka               27540\n",
       "MarkaKodu           27540\n",
       "KategoriAdı2        19810\n",
       "Cinsiyet               17\n",
       "MüşteriAdı             17\n",
       "ÜrünKodu                0\n",
       "BitişTarihi             0\n",
       "BaşlangıçTarihi         0\n",
       "KategoriAdı1            0\n",
       "MüşteriKodu             0\n",
       "Boylam                  0\n",
       "Enlem                   0\n",
       "ID                      0\n",
       "Şehir                   0\n",
       "SatışElemanı            0\n",
       "Şube                    0\n",
       "ŞubeNo                  0\n",
       "NetSatış                0\n",
       "ToplamNetSatış          0\n",
       "Fiyat                   0\n",
       "Miktar                  0\n",
       "Tarih                   0\n",
       "FişNo                   0\n",
       "ÜrünAdı                 0\n",
       "Bölge                   0\n",
       "dtype: int64"
      ]
     },
     "execution_count": 13,
     "metadata": {},
     "output_type": "execute_result"
    }
   ],
   "source": [
    "df.isnull().sum().sort_values(ascending=False)"
   ]
  },
  {
   "cell_type": "code",
   "execution_count": 14,
   "id": "3ecad18e",
   "metadata": {},
   "outputs": [
    {
     "data": {
      "text/plain": [
       "17"
      ]
     },
     "execution_count": 14,
     "metadata": {},
     "output_type": "execute_result"
    }
   ],
   "source": [
    "total_null_in_selected_columns3 = df[[ 'MüşteriAdı', 'Cinsiyet']].isnull().all(axis=1).sum()\n",
    "total_null_in_selected_columns3"
   ]
  },
  {
   "cell_type": "code",
   "execution_count": 15,
   "id": "02b4fba8",
   "metadata": {},
   "outputs": [],
   "source": [
    "df.dropna(subset=[ 'MüşteriAdı','Cinsiyet'], how='all', inplace=True)"
   ]
  },
  {
   "cell_type": "code",
   "execution_count": 16,
   "id": "edfa9d9e",
   "metadata": {},
   "outputs": [
    {
     "data": {
      "text/plain": [
       "KategoriAdı3       196169\n",
       "Marka               27540\n",
       "MarkaKodu           27540\n",
       "KategoriAdı2        19809\n",
       "ID                      0\n",
       "ÜrünKodu                0\n",
       "BitişTarihi             0\n",
       "BaşlangıçTarihi         0\n",
       "KategoriAdı1            0\n",
       "MüşteriAdı              0\n",
       "MüşteriKodu             0\n",
       "Boylam                  0\n",
       "Enlem                   0\n",
       "Bölge                   0\n",
       "Şehir                   0\n",
       "SatışElemanı            0\n",
       "Şube                    0\n",
       "ŞubeNo                  0\n",
       "NetSatış                0\n",
       "ToplamNetSatış          0\n",
       "Fiyat                   0\n",
       "Miktar                  0\n",
       "Tarih                   0\n",
       "FişNo                   0\n",
       "ÜrünAdı                 0\n",
       "Cinsiyet                0\n",
       "dtype: int64"
      ]
     },
     "execution_count": 16,
     "metadata": {},
     "output_type": "execute_result"
    }
   ],
   "source": [
    "df.isnull().sum().sort_values(ascending=False)"
   ]
  },
  {
   "cell_type": "code",
   "execution_count": 17,
   "id": "09a7b5ff",
   "metadata": {},
   "outputs": [
    {
     "data": {
      "text/plain": [
       "27540"
      ]
     },
     "execution_count": 17,
     "metadata": {},
     "output_type": "execute_result"
    }
   ],
   "source": [
    "total_null_in_selected_columns4 = df[[ 'Marka', 'MarkaKodu']].isnull().all(axis=1).sum()\n",
    "total_null_in_selected_columns4"
   ]
  },
  {
   "cell_type": "markdown",
   "id": "fbbf345b",
   "metadata": {},
   "source": [
    "Marka kolunu doldurmak için marka kolonuna baglı olan diger kolonlarla yeni bir tablo oluşturalım veri çercevesini dahi iyi görebilmek için"
   ]
  },
  {
   "cell_type": "code",
   "execution_count": 81,
   "id": "c6d64220",
   "metadata": {},
   "outputs": [],
   "source": [
    "# Belirli sütunlarda yalnızca NaN değerlere sahip olan satırları seçme\n",
    "nan_satirlar = df[df['Marka'].isna() & df['MarkaKodu'].isna()]\n",
    "\n",
    "# İstenilen sütunları seçme\n",
    "secilen_sutunlar = ['Marka', 'MarkaKodu', 'KategoriAdı1', 'KategoriAdı2', 'KategoriAdı3']\n",
    "secilen_veri = df.loc[nan_satirlar.index, secilen_sutunlar]\n",
    "\n",
    "# Yeni DataFrame oluşturma\n",
    "yeni_df = secilen_veri.copy()\n",
    "\n",
    "# Excel dosyası adı ve yolu\n",
    "dosya_yolu = \"yeni_veri.xlsx\"\n",
    "\n",
    "# DataFrame'i Excel dosyasına kaydetme\n",
    "yeni_df.to_excel(dosya_yolu, index=False)\n",
    "\n"
   ]
  },
  {
   "cell_type": "code",
   "execution_count": 19,
   "id": "9c5adb15",
   "metadata": {},
   "outputs": [
    {
     "data": {
      "text/plain": [
       "Marka           27540\n",
       "MarkaKodu       27540\n",
       "KategoriAdı3     3794\n",
       "KategoriAdı1        0\n",
       "KategoriAdı2        0\n",
       "dtype: int64"
      ]
     },
     "execution_count": 19,
     "metadata": {},
     "output_type": "execute_result"
    }
   ],
   "source": [
    "yeni_df.isnull().sum().sort_values(ascending=False)"
   ]
  },
  {
   "cell_type": "code",
   "execution_count": 20,
   "id": "aa55a0ca",
   "metadata": {},
   "outputs": [],
   "source": [
    "yeni_df.dropna(subset=['KategoriAdı3'], how='all', inplace=True)\n"
   ]
  },
  {
   "cell_type": "code",
   "execution_count": 22,
   "id": "26d3d178",
   "metadata": {},
   "outputs": [
    {
     "name": "stdout",
     "output_type": "stream",
     "text": [
      "         KategoriAdı1             KategoriAdı2              KategoriAdı3   sayı\n",
      "0               BEBEK              BEBEK BAKIM   BEBEK BAKIM MALZEMELERİ     87\n",
      "1               BEBEK              BEBEK BAKIM                  PUDRALAR      1\n",
      "2   DETERJAN TEMİZLİK           EV TEMİZLEYİCİ  MUTFAK BANYO TEMİZLEYİCİ      4\n",
      "3            ET TAVUK             ET ŞARKÜTERİ                   KAVURMA     39\n",
      "4            ET TAVUK             ET ŞARKÜTERİ                  PASTIRMA     79\n",
      "5            ET TAVUK             ET ŞARKÜTERİ                     SALAM    400\n",
      "6            ET TAVUK             ET ŞARKÜTERİ                     SOSİS    211\n",
      "7            ET TAVUK               KIRMIZI ET                      DANA     27\n",
      "8                  EV    MUTFAK EŞYA GEREÇLERİ           CAM EL ALETLERİ     60\n",
      "9                  EV    MUTFAK EŞYA GEREÇLERİ      PLASTİK EV GEREÇLERİ      6\n",
      "10                 EV    MUTFAK EŞYA GEREÇLERİ         PİŞİRME GEREÇLERİ     56\n",
      "11               GIDA            BÜSKİVİ ÇEREZ                 KURUYEMİŞ    240\n",
      "12               GIDA           HAZIR YEMEKLER                      MEZE    127\n",
      "13               GIDA           HAZIR YEMEKLER                 SİRKE SOS    146\n",
      "14               GIDA            UNLU MAMÜLLER                     EKMEK  10030\n",
      "15               GIDA            UNLU MAMÜLLER   KURABİYE GALETE GRİSİNİ    134\n",
      "16               GIDA            UNLU MAMÜLLER                  TATLILAR    220\n",
      "17               GIDA            UNLU MAMÜLLER              TOZ TATLILAR    331\n",
      "18               GIDA            UNLU MAMÜLLER                        UN   2108\n",
      "19           KOZMETİK       MAKYAJ MALZEMELERİ  MANİKUR PEDİKÜR ÜRÜNLERİ     58\n",
      "20           KOZMETİK         PARFÜM DEODORANT                KOLANYALAR     46\n",
      "21    SÜT KAHVALTILIK              KAHVALTILIK                     HELVA    127\n",
      "22    SÜT KAHVALTILIK              KAHVALTILIK             KREM ÇİKOLATA     23\n",
      "23    SÜT KAHVALTILIK              KAHVALTILIK              TAHİN PEKMEZ     29\n",
      "24    SÜT KAHVALTILIK                   PEYNİR              BEYAZ PEYNİR   2538\n",
      "25    SÜT KAHVALTILIK                   PEYNİR          ÖZEL-KREM PEYNİR    169\n",
      "26    SÜT KAHVALTILIK  SÜTLÜ TATLILAR DONDURMA               DONDURMALAR     61\n",
      "27    SÜT KAHVALTILIK                   ZEYTİN              SİYAH ZEYTİN    978\n",
      "28             İÇECEK            GAZSIZ İÇECEK            SPORCU İÇECEĞİ     61\n",
      "29             İÇECEK            GAZSIZ İÇECEK                TOZ İÇECEK     38\n",
      "30             İÇECEK             SU MADENSUYU                        SU      8\n",
      "31             İÇECEK                ÇAY KAHVE        SEKER TATLANDIRICI   5304\n"
     ]
    }
   ],
   "source": [
    "a=yeni_df.groupby([ 'KategoriAdı1','KategoriAdı2','KategoriAdı3']).size()\n",
    "tablo=a.reset_index(name='sayı')\n",
    "print(tablo)"
   ]
  },
  {
   "cell_type": "code",
   "execution_count": 23,
   "id": "d6e0077b",
   "metadata": {},
   "outputs": [
    {
     "name": "stdout",
     "output_type": "stream",
     "text": [
      "Toplam Sayı: 23746\n"
     ]
    }
   ],
   "source": [
    "# 'sayı' sütununun toplamını al\n",
    "toplam_sayi = tablo['sayı'].sum()\n",
    "print(\"Toplam Sayı:\", toplam_sayi)\n"
   ]
  },
  {
   "cell_type": "markdown",
   "id": "d3f2696b",
   "metadata": {},
   "source": [
    "Gruplandırark oluşturdugumuz tablodan marka degerleri kategorik degişken oldugu için mode ile dolduralım\n",
    "   gruplandırma yapılmasının amacı kategeorilerin bir biriyle baglı olması ve onların marka baglı olması"
   ]
  },
  {
   "cell_type": "markdown",
   "id": "41afffe3",
   "metadata": {},
   "source": [
    "0.SATIR İÇİN"
   ]
  },
  {
   "cell_type": "code",
   "execution_count": 24,
   "id": "366946f9",
   "metadata": {},
   "outputs": [
    {
     "name": "stdout",
     "output_type": "stream",
     "text": [
      "87\n",
      "WEE\n",
      "0\n"
     ]
    }
   ],
   "source": [
    "# Belirli şartları sağlayan satırları filtreleme\n",
    "filtre = (df['KategoriAdı1'] == 'BEBEK') & \\\n",
    "         (df['KategoriAdı2'] == 'BEBEK BAKIM') & \\\n",
    "         (df['KategoriAdı3'] == 'BEBEK BAKIM MALZEMELERİ')\n",
    "\n",
    "# Eksik değerlerin sayısını kontrol et\n",
    "kontrol1 = df.loc[filtre, 'Marka'].isnull().sum()\n",
    "print(kontrol1)\n",
    "\n",
    "# En sık geçen markayı bulma\n",
    "en_sik_marka = df.loc[filtre, 'Marka'].mode()[0]\n",
    "print(en_sik_marka)\n",
    "\n",
    "# Eksik değerleri doldurma\n",
    "df.loc[filtre, 'Marka'] = df.loc[filtre, 'Marka'].fillna(en_sik_marka)\n",
    "\n",
    "# Kontrol etme\n",
    "kontrol2 = df.loc[filtre, 'Marka'].isnull().sum()\n",
    "print(kontrol2)"
   ]
  },
  {
   "cell_type": "markdown",
   "id": "4be2192c",
   "metadata": {},
   "source": [
    "1.SATIR İÇİN"
   ]
  },
  {
   "cell_type": "code",
   "execution_count": 25,
   "id": "068e4916",
   "metadata": {},
   "outputs": [
    {
     "name": "stdout",
     "output_type": "stream",
     "text": [
      "1\n",
      "DALİN\n",
      "0\n"
     ]
    }
   ],
   "source": [
    "# Belirli şartları sağlayan satırları filtreleme\n",
    "filtre = (df['KategoriAdı1'] == 'BEBEK') & \\\n",
    "         (df['KategoriAdı2'] == 'BEBEK BAKIM') & \\\n",
    "         (df['KategoriAdı3'] == 'PUDRALAR')\n",
    "\n",
    "# Eksik değerlerin sayısını kontrol et\n",
    "kontrol1 = df.loc[filtre, 'Marka'].isnull().sum()\n",
    "print(kontrol1)\n",
    "\n",
    "# En sık geçen markayı bulma\n",
    "en_sik_marka = df.loc[filtre, 'Marka'].mode()[0]\n",
    "print(en_sik_marka)\n",
    "\n",
    "# Eksik değerleri doldurma\n",
    "df.loc[filtre, 'Marka'] = df.loc[filtre, 'Marka'].fillna(en_sik_marka)\n",
    "\n",
    "# Kontrol etme\n",
    "kontrol2 = df.loc[filtre, 'Marka'].isnull().sum()\n",
    "print(kontrol2)"
   ]
  },
  {
   "cell_type": "markdown",
   "id": "e5e25cb6",
   "metadata": {},
   "source": [
    "2.SATIR İÇİN"
   ]
  },
  {
   "cell_type": "code",
   "execution_count": 26,
   "id": "60c7f08e",
   "metadata": {},
   "outputs": [
    {
     "name": "stdout",
     "output_type": "stream",
     "text": [
      "4\n",
      "CİF\n",
      "0\n"
     ]
    }
   ],
   "source": [
    "# Belirli şartları sağlayan satırları filtreleme\n",
    "filtre = (df['KategoriAdı1'] == 'DETERJAN TEMİZLİK') & \\\n",
    "         (df['KategoriAdı2'] == 'EV TEMİZLEYİCİ') & \\\n",
    "         (df['KategoriAdı3'] == 'MUTFAK BANYO TEMİZLEYİCİ')\n",
    "\n",
    "# Eksik değerlerin sayısını kontrol et\n",
    "kontrol1 = df.loc[filtre, 'Marka'].isnull().sum()\n",
    "print(kontrol1)\n",
    "\n",
    "# En sık geçen markayı bulma\n",
    "en_sik_marka = df.loc[filtre, 'Marka'].mode()[0]\n",
    "print(en_sik_marka)\n",
    "\n",
    "# Eksik değerleri doldurma\n",
    "df.loc[filtre, 'Marka'] = df.loc[filtre, 'Marka'].fillna(en_sik_marka)\n",
    "\n",
    "# Kontrol etme\n",
    "kontrol2 = df.loc[filtre, 'Marka'].isnull().sum()\n",
    "print(kontrol2)"
   ]
  },
  {
   "cell_type": "markdown",
   "id": "5da63688",
   "metadata": {},
   "source": [
    "3.SATIR İÇİN "
   ]
  },
  {
   "cell_type": "code",
   "execution_count": 27,
   "id": "378ece07",
   "metadata": {},
   "outputs": [
    {
     "name": "stdout",
     "output_type": "stream",
     "text": [
      "39\n",
      "BEŞLER\n",
      "0\n"
     ]
    }
   ],
   "source": [
    "# Belirli şartları sağlayan satırları filtreleme\n",
    "filtre=                (df['KategoriAdı1'] == 'ET TAVUK') & \\\n",
    "                       (df['KategoriAdı2'] == 'ET ŞARKÜTERİ') & \\\n",
    "                       (df['KategoriAdı3'] == 'KAVURMA')\n",
    "\n",
    "# Eksik değerlerin sayısını kontrol et\n",
    "kontrol1 = df.loc[filtre, 'Marka'].isnull().sum()\n",
    "print(kontrol1)\n",
    "\n",
    "# En sık geçen markayı bulma\n",
    "en_sik_marka = df.loc[filtre, 'Marka'].mode()[0]\n",
    "print(en_sik_marka)\n",
    "\n",
    "# Eksik değerleri doldurma\n",
    "df.loc[filtre, 'Marka'] = df.loc[filtre, 'Marka'].fillna(en_sik_marka)\n",
    "\n",
    "# Kontrol etme\n",
    "kontrol2 = df.loc[filtre, 'Marka'].isnull().sum()\n",
    "print(kontrol2)"
   ]
  },
  {
   "cell_type": "markdown",
   "id": "2cda76da",
   "metadata": {},
   "source": [
    "4.SATIR İÇİN"
   ]
  },
  {
   "cell_type": "code",
   "execution_count": 28,
   "id": "c1a76fcb",
   "metadata": {},
   "outputs": [
    {
     "name": "stdout",
     "output_type": "stream",
     "text": [
      "79\n",
      "MARET\n",
      "0\n"
     ]
    }
   ],
   "source": [
    "# Belirli şartları sağlayan satırları filtreleme\n",
    "filtre = (df['KategoriAdı1'] == 'ET TAVUK') & \\\n",
    "         (df['KategoriAdı2'] == 'ET ŞARKÜTERİ') & \\\n",
    "         (df['KategoriAdı3'] == 'PASTIRMA')\n",
    "\n",
    "# Eksik değerlerin sayısını kontrol et\n",
    "kontrol1 = df.loc[filtre, 'Marka'].isnull().sum()\n",
    "print(kontrol1)\n",
    "\n",
    "# En sık geçen markayı bulma\n",
    "en_sik_marka = df.loc[filtre, 'Marka'].mode()[0]\n",
    "print(en_sik_marka)\n",
    "\n",
    "# Eksik değerleri doldurma\n",
    "df.loc[filtre, 'Marka'] = df.loc[filtre, 'Marka'].fillna(en_sik_marka)\n",
    "\n",
    "# Kontrol etme\n",
    "kontrol2 = df.loc[filtre, 'Marka'].isnull().sum()\n",
    "print(kontrol2)\n"
   ]
  },
  {
   "cell_type": "markdown",
   "id": "b6fec274",
   "metadata": {},
   "source": [
    "5.SATIR İÇİN"
   ]
  },
  {
   "cell_type": "code",
   "execution_count": 29,
   "id": "1628ffea",
   "metadata": {},
   "outputs": [
    {
     "name": "stdout",
     "output_type": "stream",
     "text": [
      "400\n",
      "PINAR\n",
      "0\n"
     ]
    }
   ],
   "source": [
    "# Belirli şartları sağlayan satırları filtreleme\n",
    "filtre = (df['KategoriAdı1'] == 'ET TAVUK') & \\\n",
    "         (df['KategoriAdı2'] == 'ET ŞARKÜTERİ') & \\\n",
    "         (df['KategoriAdı3'] == 'SALAM')\n",
    "\n",
    "# Eksik değerlerin sayısını kontrol et\n",
    "kontrol1 = df.loc[filtre, 'Marka'].isnull().sum()\n",
    "print(kontrol1)\n",
    "\n",
    "# En sık geçen markayı bulma\n",
    "en_sik_marka = df.loc[filtre, 'Marka'].mode()[0]\n",
    "print(en_sik_marka)\n",
    "\n",
    "# Eksik değerleri doldurma\n",
    "df.loc[filtre, 'Marka'] = df.loc[filtre, 'Marka'].fillna(en_sik_marka)\n",
    "\n",
    "# Kontrol etme\n",
    "kontrol2 = df.loc[filtre, 'Marka'].isnull().sum()\n",
    "print(kontrol2)"
   ]
  },
  {
   "cell_type": "markdown",
   "id": "17e061bf",
   "metadata": {},
   "source": [
    "6.SATIR İÇİN"
   ]
  },
  {
   "cell_type": "code",
   "execution_count": 30,
   "id": "5dc536aa",
   "metadata": {},
   "outputs": [
    {
     "name": "stdout",
     "output_type": "stream",
     "text": [
      "211\n",
      "PINAR\n",
      "0\n"
     ]
    }
   ],
   "source": [
    "# Belirli şartları sağlayan satırları filtreleme\n",
    "filtre = (df['KategoriAdı1'] == 'ET TAVUK') & \\\n",
    "         (df['KategoriAdı2'] == 'ET ŞARKÜTERİ') & \\\n",
    "         (df['KategoriAdı3'] == 'SOSİS')\n",
    "\n",
    "# Eksik değerlerin sayısını kontrol et\n",
    "kontrol1 = df.loc[filtre, 'Marka'].isnull().sum()\n",
    "print(kontrol1)\n",
    "\n",
    "# En sık geçen markayı bulma\n",
    "en_sik_marka = df.loc[filtre, 'Marka'].mode()[0]\n",
    "print(en_sik_marka)\n",
    "\n",
    "# Eksik değerleri doldurma\n",
    "df.loc[filtre, 'Marka'] = df.loc[filtre, 'Marka'].fillna(en_sik_marka)\n",
    "\n",
    "# Kontrol etme\n",
    "kontrol2 = df.loc[filtre, 'Marka'].isnull().sum()\n",
    "print(kontrol2)"
   ]
  },
  {
   "cell_type": "markdown",
   "id": "c4001163",
   "metadata": {},
   "source": [
    "7.SATIR İÇİN"
   ]
  },
  {
   "cell_type": "code",
   "execution_count": 31,
   "id": "b8da5472",
   "metadata": {},
   "outputs": [
    {
     "name": "stdout",
     "output_type": "stream",
     "text": [
      "27\n",
      "KASAP\n",
      "0\n"
     ]
    }
   ],
   "source": [
    "# Belirli şartları sağlayan satırları filtreleme\n",
    "filtre = (df['KategoriAdı1'] == 'ET TAVUK') & \\\n",
    "         (df['KategoriAdı2'] == 'KIRMIZI ET') & \\\n",
    "         (df['KategoriAdı3'] == 'DANA')\n",
    "\n",
    "# Eksik değerlerin sayısını kontrol et\n",
    "kontrol1 = df.loc[filtre, 'Marka'].isnull().sum()\n",
    "print(kontrol1)\n",
    "\n",
    "# En sık geçen markayı bulma\n",
    "en_sik_marka = df.loc[filtre, 'Marka'].mode()[0]\n",
    "print(en_sik_marka)\n",
    "\n",
    "# Eksik değerleri doldurma\n",
    "df.loc[filtre, 'Marka'] = df.loc[filtre, 'Marka'].fillna(en_sik_marka)\n",
    "\n",
    "# Kontrol etme\n",
    "kontrol2 = df.loc[filtre, 'Marka'].isnull().sum()\n",
    "print(kontrol2)"
   ]
  },
  {
   "cell_type": "markdown",
   "id": "0f41c933",
   "metadata": {},
   "source": [
    "8.SATIR İÇİN"
   ]
  },
  {
   "cell_type": "code",
   "execution_count": 32,
   "id": "c66fc76b",
   "metadata": {},
   "outputs": [
    {
     "name": "stdout",
     "output_type": "stream",
     "text": [
      "60\n",
      "P.BAHÇE\n",
      "0\n"
     ]
    }
   ],
   "source": [
    "# Belirli şartları sağlayan satırları filtreleme\n",
    "filtre = (df['KategoriAdı1'] == 'EV') & \\\n",
    "         (df['KategoriAdı2'] == 'MUTFAK EŞYA GEREÇLERİ') & \\\n",
    "         (df['KategoriAdı3'] == 'CAM EL ALETLERİ')\n",
    "\n",
    "# Eksik değerlerin sayısını kontrol et\n",
    "kontrol1 = df.loc[filtre, 'Marka'].isnull().sum()\n",
    "print(kontrol1)\n",
    "\n",
    "# En sık geçen markayı bulma\n",
    "en_sik_marka = df.loc[filtre, 'Marka'].mode()[0]\n",
    "print(en_sik_marka)\n",
    "\n",
    "# Eksik değerleri doldurma\n",
    "df.loc[filtre, 'Marka'] = df.loc[filtre, 'Marka'].fillna(en_sik_marka)\n",
    "\n",
    "# Kontrol etme\n",
    "kontrol2 = df.loc[filtre, 'Marka'].isnull().sum()\n",
    "print(kontrol2)"
   ]
  },
  {
   "cell_type": "markdown",
   "id": "f54b588e",
   "metadata": {},
   "source": [
    "9.SATIR İÇİN"
   ]
  },
  {
   "cell_type": "code",
   "execution_count": 33,
   "id": "f38f4c4f",
   "metadata": {},
   "outputs": [
    {
     "name": "stdout",
     "output_type": "stream",
     "text": [
      "6\n",
      "ARGEM\n",
      "0\n"
     ]
    }
   ],
   "source": [
    "# Belirli şartları sağlayan satırları filtreleme\n",
    "filtre = (df['KategoriAdı1'] == 'EV') & \\\n",
    "         (df['KategoriAdı2'] == 'MUTFAK EŞYA GEREÇLERİ') & \\\n",
    "         (df['KategoriAdı3'] == 'PLASTİK EV GEREÇLERİ')\n",
    "\n",
    "# Eksik değerlerin sayısını kontrol et\n",
    "kontrol1 = df.loc[filtre, 'Marka'].isnull().sum()\n",
    "print(kontrol1)\n",
    "\n",
    "# En sık geçen markayı bulma\n",
    "en_sik_marka = df.loc[filtre, 'Marka'].mode()[0]\n",
    "print(en_sik_marka)\n",
    "\n",
    "# Eksik değerleri doldurma\n",
    "df.loc[filtre, 'Marka'] = df.loc[filtre, 'Marka'].fillna(en_sik_marka)\n",
    "\n",
    "# Kontrol etme\n",
    "kontrol2 = df.loc[filtre, 'Marka'].isnull().sum()\n",
    "print(kontrol2)"
   ]
  },
  {
   "cell_type": "markdown",
   "id": "c4288e66",
   "metadata": {},
   "source": [
    "10 SATIR İÇİN"
   ]
  },
  {
   "cell_type": "code",
   "execution_count": 34,
   "id": "1a006443",
   "metadata": {},
   "outputs": [
    {
     "name": "stdout",
     "output_type": "stream",
     "text": [
      "56\n",
      "COOK\n",
      "0\n"
     ]
    }
   ],
   "source": [
    "# Belirli şartları sağlayan satırları filtreleme\n",
    "filtre = (df['KategoriAdı1'] == 'EV') & \\\n",
    "         (df['KategoriAdı2'] == 'MUTFAK EŞYA GEREÇLERİ') & \\\n",
    "         (df['KategoriAdı3'] == 'PİŞİRME GEREÇLERİ')\n",
    "\n",
    "# Eksik değerlerin sayısını kontrol et\n",
    "kontrol1 = df.loc[filtre, 'Marka'].isnull().sum()\n",
    "print(kontrol1)\n",
    "\n",
    "# En sık geçen markayı bulma\n",
    "en_sik_marka = df.loc[filtre, 'Marka'].mode()[0]\n",
    "print(en_sik_marka)\n",
    "\n",
    "# Eksik değerleri doldurma\n",
    "df.loc[filtre, 'Marka'] = df.loc[filtre, 'Marka'].fillna(en_sik_marka)\n",
    "\n",
    "# Kontrol etme\n",
    "kontrol2 = df.loc[filtre, 'Marka'].isnull().sum()\n",
    "print(kontrol2)"
   ]
  },
  {
   "cell_type": "markdown",
   "id": "f01ae85f",
   "metadata": {},
   "source": [
    "11.SATIR İÇİN"
   ]
  },
  {
   "cell_type": "code",
   "execution_count": 35,
   "id": "a5ee40b8",
   "metadata": {},
   "outputs": [
    {
     "name": "stdout",
     "output_type": "stream",
     "text": [
      "240\n",
      "ARMONİ \n",
      "0\n"
     ]
    }
   ],
   "source": [
    "# Belirli şartları sağlayan satırları filtreleme\n",
    "filtre = (df['KategoriAdı1'] == 'GIDA') & \\\n",
    "         (df['KategoriAdı2'] == 'BÜSKİVİ ÇEREZ') & \\\n",
    "         (df['KategoriAdı3'] == 'KURUYEMİŞ')\n",
    "\n",
    "# Eksik değerlerin sayısını kontrol et\n",
    "kontrol1 = df.loc[filtre, 'Marka'].isnull().sum()\n",
    "print(kontrol1)\n",
    "\n",
    "# En sık geçen markayı bulma\n",
    "en_sik_marka = df.loc[filtre, 'Marka'].mode()[0]\n",
    "print(en_sik_marka)\n",
    "\n",
    "# Eksik değerleri doldurma\n",
    "df.loc[filtre, 'Marka'] = df.loc[filtre, 'Marka'].fillna(en_sik_marka)\n",
    "\n",
    "# Kontrol etme\n",
    "kontrol2 = df.loc[filtre, 'Marka'].isnull().sum()\n",
    "print(kontrol2)"
   ]
  },
  {
   "cell_type": "markdown",
   "id": "80cfc145",
   "metadata": {},
   "source": [
    "12.SATIR İÇİN"
   ]
  },
  {
   "cell_type": "code",
   "execution_count": 36,
   "id": "f4a9f699",
   "metadata": {},
   "outputs": [
    {
     "name": "stdout",
     "output_type": "stream",
     "text": [
      "127\n",
      "SİHİRLİ ELLER\n",
      "0\n"
     ]
    }
   ],
   "source": [
    "# Belirli şartları sağlayan satırları filtreleme\n",
    "filtre = (df['KategoriAdı1'] == 'GIDA') & \\\n",
    "         (df['KategoriAdı2'] == 'HAZIR YEMEKLER') & \\\n",
    "         (df['KategoriAdı3'] == 'MEZE')\n",
    "\n",
    "# Eksik değerlerin sayısını kontrol et\n",
    "kontrol1 = df.loc[filtre, 'Marka'].isnull().sum()\n",
    "print(kontrol1)\n",
    "\n",
    "# En sık geçen markayı bulma\n",
    "en_sik_marka = df.loc[filtre, 'Marka'].mode()[0]\n",
    "print(en_sik_marka)\n",
    "\n",
    "# Eksik değerleri doldurma\n",
    "df.loc[filtre, 'Marka'] = df.loc[filtre, 'Marka'].fillna(en_sik_marka)\n",
    "\n",
    "# Kontrol etme\n",
    "kontrol2 = df.loc[filtre, 'Marka'].isnull().sum()\n",
    "print(kontrol2)"
   ]
  },
  {
   "cell_type": "markdown",
   "id": "9c6f1c98",
   "metadata": {},
   "source": [
    "13.SATIR İÇİN"
   ]
  },
  {
   "cell_type": "code",
   "execution_count": 37,
   "id": "752fd74e",
   "metadata": {},
   "outputs": [
    {
     "name": "stdout",
     "output_type": "stream",
     "text": [
      "146\n",
      "KEMAL KÜKRER\n",
      "0\n"
     ]
    }
   ],
   "source": [
    "# Belirli şartları sağlayan satırları filtreleme\n",
    "filtre = (df['KategoriAdı1'] == 'GIDA') & \\\n",
    "         (df['KategoriAdı2'] == 'HAZIR YEMEKLER') & \\\n",
    "         (df['KategoriAdı3'] == 'SİRKE SOS')\n",
    "\n",
    "# Eksik değerlerin sayısını kontrol et\n",
    "kontrol1 = df.loc[filtre, 'Marka'].isnull().sum()\n",
    "print(kontrol1)\n",
    "\n",
    "# En sık geçen markayı bulma\n",
    "en_sik_marka = df.loc[filtre, 'Marka'].mode()[0]\n",
    "print(en_sik_marka)\n",
    "\n",
    "# Eksik değerleri doldurma\n",
    "df.loc[filtre, 'Marka'] = df.loc[filtre, 'Marka'].fillna(en_sik_marka)\n",
    "\n",
    "# Kontrol etme\n",
    "kontrol2 = df.loc[filtre, 'Marka'].isnull().sum()\n",
    "print(kontrol2)"
   ]
  },
  {
   "cell_type": "markdown",
   "id": "4bccae1d",
   "metadata": {},
   "source": [
    "14.SATIR İÇİN"
   ]
  },
  {
   "cell_type": "code",
   "execution_count": 38,
   "id": "a03e7a5e",
   "metadata": {},
   "outputs": [
    {
     "name": "stdout",
     "output_type": "stream",
     "text": [
      "10030\n",
      "SULTAN\n",
      "0\n"
     ]
    }
   ],
   "source": [
    "# Belirli şartları sağlayan satırları filtreleme\n",
    "filtre = (df['KategoriAdı1'] == 'GIDA') & \\\n",
    "         (df['KategoriAdı2'] == 'UNLU MAMÜLLER') & \\\n",
    "         (df['KategoriAdı3'] == 'EKMEK')\n",
    "\n",
    "# Eksik değerlerin sayısını kontrol et\n",
    "kontrol1 = df.loc[filtre, 'Marka'].isnull().sum()\n",
    "print(kontrol1)\n",
    "\n",
    "# En sık geçen markayı bulma\n",
    "en_sik_marka = df.loc[filtre, 'Marka'].mode()[0]\n",
    "print(en_sik_marka)\n",
    "\n",
    "# Eksik değerleri doldurma\n",
    "df.loc[filtre, 'Marka'] = df.loc[filtre, 'Marka'].fillna(en_sik_marka)\n",
    "\n",
    "# Kontrol etme\n",
    "kontrol2 = df.loc[filtre, 'Marka'].isnull().sum()\n",
    "print(kontrol2)"
   ]
  },
  {
   "cell_type": "markdown",
   "id": "7cf6ba82",
   "metadata": {},
   "source": [
    "15.SATIR İÇİN"
   ]
  },
  {
   "cell_type": "code",
   "execution_count": 39,
   "id": "f48d4aef",
   "metadata": {},
   "outputs": [
    {
     "name": "stdout",
     "output_type": "stream",
     "text": [
      "134\n",
      "ÖZTEMİZEL\n",
      "0\n"
     ]
    }
   ],
   "source": [
    "filtre = (df['KategoriAdı1'] == 'GIDA') & \\\n",
    "         (df['KategoriAdı2'] == 'UNLU MAMÜLLER') & \\\n",
    "         (df['KategoriAdı3'] == 'KURABİYE GALETE GRİSİNİ')\n",
    "\n",
    "# Eksik değerlerin sayısını kontrol et\n",
    "kontrol1 = df.loc[filtre, 'Marka'].isnull().sum()\n",
    "print(kontrol1)\n",
    "\n",
    "# En sık geçen markayı bulma\n",
    "en_sik_marka = df.loc[filtre, 'Marka'].mode()[0]\n",
    "print(en_sik_marka)\n",
    "\n",
    "# Eksik değerleri doldurma\n",
    "df.loc[filtre, 'Marka'] = df.loc[filtre, 'Marka'].fillna(en_sik_marka)\n",
    "\n",
    "# Kontrol etme\n",
    "kontrol2 = df.loc[filtre, 'Marka'].isnull().sum()\n",
    "print(kontrol2)"
   ]
  },
  {
   "cell_type": "markdown",
   "id": "84910884",
   "metadata": {},
   "source": [
    "16.SATIR İÇİN"
   ]
  },
  {
   "cell_type": "code",
   "execution_count": 40,
   "id": "3a3cdbaf",
   "metadata": {},
   "outputs": [
    {
     "name": "stdout",
     "output_type": "stream",
     "text": [
      "220\n",
      "PAKMAYA\n",
      "0\n"
     ]
    }
   ],
   "source": [
    " # Belirli şartları sağlayan satırları filtreleme\n",
    "filtre = (df['KategoriAdı1'] == 'GIDA') & \\\n",
    "                       (df['KategoriAdı2'] == 'UNLU MAMÜLLER') & \\\n",
    "                       (df['KategoriAdı3'] == 'TATLILAR')\n",
    "\n",
    "# Eksik değerlerin sayısını kontrol et\n",
    "kontrol1 = df.loc[filtre, 'Marka'].isnull().sum()\n",
    "print(kontrol1)\n",
    "\n",
    "# En sık geçen markayı bulma\n",
    "en_sik_marka = df.loc[filtre, 'Marka'].mode()[0]\n",
    "print(en_sik_marka)\n",
    "\n",
    "# Eksik değerleri doldurma\n",
    "df.loc[filtre, 'Marka'] = df.loc[filtre, 'Marka'].fillna(en_sik_marka)\n",
    "\n",
    "# Kontrol etme\n",
    "kontrol2 = df.loc[filtre, 'Marka'].isnull().sum()\n",
    "print(kontrol2)"
   ]
  },
  {
   "cell_type": "markdown",
   "id": "427bb6e2",
   "metadata": {},
   "source": [
    "17.SATIR İÇİN"
   ]
  },
  {
   "cell_type": "code",
   "execution_count": 41,
   "id": "473875f2",
   "metadata": {},
   "outputs": [
    {
     "name": "stdout",
     "output_type": "stream",
     "text": [
      "331\n",
      "DR.OETKER\n",
      "0\n"
     ]
    }
   ],
   "source": [
    " # Belirli şartları sağlayan satırları filtreleme\n",
    "filtre = (df['KategoriAdı1'] == 'GIDA') & \\\n",
    "                       (df['KategoriAdı2'] == 'UNLU MAMÜLLER') & \\\n",
    "                       (df['KategoriAdı3'] == 'TOZ TATLILAR')\n",
    "\n",
    "# Eksik değerlerin sayısını kontrol et\n",
    "kontrol1 = df.loc[filtre, 'Marka'].isnull().sum()\n",
    "print(kontrol1)\n",
    "\n",
    "# En sık geçen markayı bulma\n",
    "en_sik_marka = df.loc[filtre, 'Marka'].mode()[0]\n",
    "print(en_sik_marka)\n",
    "\n",
    "# Eksik değerleri doldurma\n",
    "df.loc[filtre, 'Marka'] = df.loc[filtre, 'Marka'].fillna(en_sik_marka)\n",
    "\n",
    "# Kontrol etme\n",
    "kontrol2 = df.loc[filtre, 'Marka'].isnull().sum()\n",
    "print(kontrol2)"
   ]
  },
  {
   "cell_type": "markdown",
   "id": "d6cdba3a",
   "metadata": {},
   "source": [
    "18.SATIR İÇİN"
   ]
  },
  {
   "cell_type": "code",
   "execution_count": 42,
   "id": "3c0b432a",
   "metadata": {},
   "outputs": [
    {
     "name": "stdout",
     "output_type": "stream",
     "text": [
      "2108\n",
      " F NEFFİS\n",
      "0\n"
     ]
    }
   ],
   "source": [
    " # Belirli şartları sağlayan satırları filtreleme\n",
    "filtre = (df['KategoriAdı1'] == 'GIDA')  & \\\n",
    "                       (df['KategoriAdı2'] == 'UNLU MAMÜLLER')  & \\\n",
    "                       (df['KategoriAdı3'] == 'UN')\n",
    "\n",
    "# Eksik değerlerin sayısını kontrol et\n",
    "kontrol1 = df.loc[filtre, 'Marka'].isnull().sum()\n",
    "print(kontrol1)\n",
    "\n",
    "# En sık geçen markayı bulma\n",
    "en_sik_marka = df.loc[filtre, 'Marka'].mode()[0]\n",
    "print(en_sik_marka)\n",
    "\n",
    "# Eksik değerleri doldurma\n",
    "df.loc[filtre, 'Marka'] = df.loc[filtre, 'Marka'].fillna(en_sik_marka)\n",
    "\n",
    "# Kontrol etme\n",
    "kontrol2 = df.loc[filtre, 'Marka'].isnull().sum()\n",
    "print(kontrol2)"
   ]
  },
  {
   "cell_type": "markdown",
   "id": "e8e71d13",
   "metadata": {},
   "source": [
    "19.SATIR İÇİN"
   ]
  },
  {
   "cell_type": "code",
   "execution_count": 43,
   "id": "5d1a3d9a",
   "metadata": {},
   "outputs": [
    {
     "name": "stdout",
     "output_type": "stream",
     "text": [
      "58\n",
      "NASCİTA\n",
      "0\n"
     ]
    }
   ],
   "source": [
    " # Belirli şartları sağlayan satırları filtreleme\n",
    "filtre=(df['KategoriAdı1'] == 'KOZMETİK') & \\\n",
    "                       (df['KategoriAdı2'] == 'MAKYAJ MALZEMELERİ') & \\\n",
    "                       (df['KategoriAdı3'] == 'MANİKUR PEDİKÜR ÜRÜNLERİ')\n",
    "\n",
    "# Eksik değerlerin sayısını kontrol et\n",
    "kontrol1 = df.loc[filtre, 'Marka'].isnull().sum()\n",
    "print(kontrol1)\n",
    "\n",
    "# En sık geçen markayı bulma\n",
    "en_sik_marka = df.loc[filtre, 'Marka'].mode()[0]\n",
    "print(en_sik_marka)\n",
    "\n",
    "# Eksik değerleri doldurma\n",
    "df.loc[filtre, 'Marka'] = df.loc[filtre, 'Marka'].fillna(en_sik_marka)\n",
    "\n",
    "# Kontrol etme\n",
    "kontrol2 = df.loc[filtre, 'Marka'].isnull().sum()\n",
    "print(kontrol2)"
   ]
  },
  {
   "cell_type": "markdown",
   "id": "2994035a",
   "metadata": {},
   "source": [
    "20.SATIR İÇİN"
   ]
  },
  {
   "cell_type": "code",
   "execution_count": 44,
   "id": "4577252c",
   "metadata": {},
   "outputs": [
    {
     "name": "stdout",
     "output_type": "stream",
     "text": [
      "46\n",
      "DURU\n",
      "0\n"
     ]
    }
   ],
   "source": [
    " # Belirli şartları sağlayan satırları filtreleme\n",
    "filtre = (df['KategoriAdı1'] == 'KOZMETİK') & \\\n",
    "                       (df['KategoriAdı2'] == 'PARFÜM DEODORANT') & \\\n",
    "                       (df['KategoriAdı3'] == 'KOLANYALAR')\n",
    "\n",
    "# Eksik değerlerin sayısını kontrol et\n",
    "kontrol1 = df.loc[filtre, 'Marka'].isnull().sum()\n",
    "print(kontrol1)\n",
    "\n",
    "# En sık geçen markayı bulma\n",
    "en_sik_marka = df.loc[filtre, 'Marka'].mode()[0]\n",
    "print(en_sik_marka)\n",
    "\n",
    "# Eksik değerleri doldurma\n",
    "df.loc[filtre, 'Marka'] = df.loc[filtre, 'Marka'].fillna(en_sik_marka)\n",
    "\n",
    "# Kontrol etme\n",
    "kontrol2 = df.loc[filtre, 'Marka'].isnull().sum()\n",
    "print(kontrol2)"
   ]
  },
  {
   "cell_type": "markdown",
   "id": "c0a03ce4",
   "metadata": {},
   "source": [
    "21.SATIR İÇİN"
   ]
  },
  {
   "cell_type": "code",
   "execution_count": 45,
   "id": "e9675845",
   "metadata": {},
   "outputs": [
    {
     "name": "stdout",
     "output_type": "stream",
     "text": [
      "127\n",
      "KOSKA\n",
      "0\n"
     ]
    }
   ],
   "source": [
    " # Belirli şartları sağlayan satırları filtreleme\n",
    "filtre = (df['KategoriAdı1'] == 'SÜT KAHVALTILIK') & \\\n",
    "                       (df['KategoriAdı2'] == 'KAHVALTILIK') & \\\n",
    "                       (df['KategoriAdı3'] == 'HELVA')\n",
    "\n",
    "# Eksik değerlerin sayısını kontrol et\n",
    "kontrol1 = df.loc[filtre, 'Marka'].isnull().sum()\n",
    "print(kontrol1)\n",
    "\n",
    "# En sık geçen markayı bulma\n",
    "en_sik_marka = df.loc[filtre, 'Marka'].mode()[0]\n",
    "print(en_sik_marka)\n",
    "\n",
    "# Eksik değerleri doldurma\n",
    "df.loc[filtre, 'Marka'] = df.loc[filtre, 'Marka'].fillna(en_sik_marka)\n",
    "\n",
    "# Kontrol etme\n",
    "kontrol2 = df.loc[filtre, 'Marka'].isnull().sum()\n",
    "print(kontrol2)"
   ]
  },
  {
   "cell_type": "markdown",
   "id": "6165ec22",
   "metadata": {},
   "source": [
    "22.SATIR İÇİN"
   ]
  },
  {
   "cell_type": "code",
   "execution_count": 46,
   "id": "626519bb",
   "metadata": {},
   "outputs": [
    {
     "name": "stdout",
     "output_type": "stream",
     "text": [
      "23\n",
      "ÜLKER\n",
      "0\n"
     ]
    }
   ],
   "source": [
    " # Belirli şartları sağlayan satırları filtreleme\n",
    "filtre = (df['KategoriAdı1'] == 'SÜT KAHVALTILIK') & \\\n",
    "                       (df['KategoriAdı2'] == 'KAHVALTILIK') & \\\n",
    "                       (df['KategoriAdı3'] == 'KREM ÇİKOLATA')\n",
    "\n",
    "# Eksik değerlerin sayısını kontrol et\n",
    "kontrol1 = df.loc[filtre, 'Marka'].isnull().sum()\n",
    "print(kontrol1)\n",
    "\n",
    "# En sık geçen markayı bulma\n",
    "en_sik_marka = df.loc[filtre, 'Marka'].mode()[0]\n",
    "print(en_sik_marka)\n",
    "\n",
    "# Eksik değerleri doldurma\n",
    "df.loc[filtre, 'Marka'] = df.loc[filtre, 'Marka'].fillna(en_sik_marka)\n",
    "\n",
    "# Kontrol etme\n",
    "kontrol2 = df.loc[filtre, 'Marka'].isnull().sum()\n",
    "print(kontrol2)"
   ]
  },
  {
   "cell_type": "markdown",
   "id": "d7f55f23",
   "metadata": {},
   "source": [
    "23.SATIR İÇİN"
   ]
  },
  {
   "cell_type": "code",
   "execution_count": 47,
   "id": "3f1d8bb8",
   "metadata": {},
   "outputs": [
    {
     "name": "stdout",
     "output_type": "stream",
     "text": [
      "29\n",
      "KOSKA\n",
      "0\n"
     ]
    }
   ],
   "source": [
    " # Belirli şartları sağlayan satırları filtreleme\n",
    "filtre = (df['KategoriAdı1'] == 'SÜT KAHVALTILIK') & \\\n",
    "                       (df['KategoriAdı2'] == 'KAHVALTILIK') & \\\n",
    "                       (df['KategoriAdı3'] == 'TAHİN PEKMEZ')\n",
    "\n",
    "# Eksik değerlerin sayısını kontrol et\n",
    "kontrol1 = df.loc[filtre, 'Marka'].isnull().sum()\n",
    "print(kontrol1)\n",
    "\n",
    "# En sık geçen markayı bulma\n",
    "en_sik_marka = df.loc[filtre, 'Marka'].mode()[0]\n",
    "print(en_sik_marka)\n",
    "\n",
    "# Eksik değerleri doldurma\n",
    "df.loc[filtre, 'Marka'] = df.loc[filtre, 'Marka'].fillna(en_sik_marka)\n",
    "\n",
    "# Kontrol etme\n",
    "kontrol2 = df.loc[filtre, 'Marka'].isnull().sum()\n",
    "print(kontrol2)"
   ]
  },
  {
   "cell_type": "markdown",
   "id": "160287a9",
   "metadata": {},
   "source": [
    "24.SATIR İÇİN"
   ]
  },
  {
   "cell_type": "code",
   "execution_count": 48,
   "id": "027e26a6",
   "metadata": {},
   "outputs": [
    {
     "name": "stdout",
     "output_type": "stream",
     "text": [
      "2538\n",
      "SÜTAŞ\n",
      "0\n"
     ]
    }
   ],
   "source": [
    " # Belirli şartları sağlayan satırları filtreleme\n",
    "filtre = (df['KategoriAdı1'] == 'SÜT KAHVALTILIK') & \\\n",
    "                       (df['KategoriAdı2'] == 'PEYNİR') & \\\n",
    "                       (df['KategoriAdı3'] == 'BEYAZ PEYNİR')\n",
    "\n",
    "# Eksik değerlerin sayısını kontrol et\n",
    "kontrol1 = df.loc[filtre, 'Marka'].isnull().sum()\n",
    "print(kontrol1)\n",
    "\n",
    "# En sık geçen markayı bulma\n",
    "en_sik_marka = df.loc[filtre, 'Marka'].mode()[0]\n",
    "print(en_sik_marka)\n",
    "\n",
    "# Eksik değerleri doldurma\n",
    "df.loc[filtre, 'Marka'] = df.loc[filtre, 'Marka'].fillna(en_sik_marka)\n",
    "\n",
    "# Kontrol etme\n",
    "kontrol2 = df.loc[filtre, 'Marka'].isnull().sum()\n",
    "print(kontrol2)"
   ]
  },
  {
   "cell_type": "markdown",
   "id": "b54605e2",
   "metadata": {},
   "source": [
    "25.SATIR İÇİN"
   ]
  },
  {
   "cell_type": "code",
   "execution_count": 49,
   "id": "d4a5713e",
   "metadata": {},
   "outputs": [
    {
     "name": "stdout",
     "output_type": "stream",
     "text": [
      "169\n",
      "OYALI\n",
      "0\n"
     ]
    }
   ],
   "source": [
    " # Belirli şartları sağlayan satırları filtreleme\n",
    "filtre = (df['KategoriAdı1'] == 'SÜT KAHVALTILIK') & \\\n",
    "                       (df['KategoriAdı2'] == 'PEYNİR') & \\\n",
    "                       (df['KategoriAdı3'] == 'ÖZEL-KREM PEYNİR')\n",
    "\n",
    "# Eksik değerlerin sayısını kontrol et\n",
    "kontrol1 = df.loc[filtre, 'Marka'].isnull().sum()\n",
    "print(kontrol1)\n",
    "\n",
    "# En sık geçen markayı bulma\n",
    "en_sik_marka = df.loc[filtre, 'Marka'].mode()[0]\n",
    "print(en_sik_marka)\n",
    "\n",
    "# Eksik değerleri doldurma\n",
    "df.loc[filtre, 'Marka'] = df.loc[filtre, 'Marka'].fillna(en_sik_marka)\n",
    "\n",
    "# Kontrol etme\n",
    "kontrol2 = df.loc[filtre, 'Marka'].isnull().sum()\n",
    "print(kontrol2)"
   ]
  },
  {
   "cell_type": "markdown",
   "id": "431da290",
   "metadata": {},
   "source": [
    "26.SATIR İÇİN"
   ]
  },
  {
   "cell_type": "code",
   "execution_count": 50,
   "id": "33f718c8",
   "metadata": {},
   "outputs": [
    {
     "name": "stdout",
     "output_type": "stream",
     "text": [
      "61\n",
      "ALGIDA\n",
      "0\n"
     ]
    }
   ],
   "source": [
    " # Belirli şartları sağlayan satırları filtreleme\n",
    "filtre=(df['KategoriAdı1'] == 'SÜT KAHVALTILIK') & \\\n",
    "                       (df['KategoriAdı2'] == 'SÜTLÜ TATLILAR DONDURMA') & \\\n",
    "                       (df['KategoriAdı3'] == 'DONDURMALAR')\n",
    "\n",
    "# Eksik değerlerin sayısını kontrol et\n",
    "kontrol1 = df.loc[filtre, 'Marka'].isnull().sum()\n",
    "print(kontrol1)\n",
    "\n",
    "# En sık geçen markayı bulma\n",
    "en_sik_marka = df.loc[filtre, 'Marka'].mode()[0]\n",
    "print(en_sik_marka)\n",
    "\n",
    "# Eksik değerleri doldurma\n",
    "df.loc[filtre, 'Marka'] = df.loc[filtre, 'Marka'].fillna(en_sik_marka)\n",
    "\n",
    "# Kontrol etme\n",
    "kontrol2 = df.loc[filtre, 'Marka'].isnull().sum()\n",
    "print(kontrol2)"
   ]
  },
  {
   "cell_type": "markdown",
   "id": "636a4831",
   "metadata": {},
   "source": [
    "27.SATIR İÇİN"
   ]
  },
  {
   "cell_type": "code",
   "execution_count": 51,
   "id": "0f4eb421",
   "metadata": {},
   "outputs": [
    {
     "name": "stdout",
     "output_type": "stream",
     "text": [
      "978\n",
      " F BAKTAT\n",
      "0\n"
     ]
    }
   ],
   "source": [
    " # Belirli şartları sağlayan satırları filtreleme\n",
    "filtre = (df['KategoriAdı1'] == 'SÜT KAHVALTILIK') & \\\n",
    "                       (df['KategoriAdı2'] == 'ZEYTİN') & \\\n",
    "                       (df['KategoriAdı3'] == 'SİYAH ZEYTİN')\n",
    "\n",
    "# Eksik değerlerin sayısını kontrol et\n",
    "kontrol1 = df.loc[filtre, 'Marka'].isnull().sum()\n",
    "print(kontrol1)\n",
    "\n",
    "# En sık geçen markayı bulma\n",
    "en_sik_marka = df.loc[filtre, 'Marka'].mode()[0]\n",
    "print(en_sik_marka)\n",
    "\n",
    "# Eksik değerleri doldurma\n",
    "df.loc[filtre, 'Marka'] = df.loc[filtre, 'Marka'].fillna(en_sik_marka)\n",
    "\n",
    "# Kontrol etme\n",
    "kontrol2 = df.loc[filtre, 'Marka'].isnull().sum()\n",
    "print(kontrol2)"
   ]
  },
  {
   "cell_type": "markdown",
   "id": "3016a05e",
   "metadata": {},
   "source": [
    "28.SATIR İÇİN"
   ]
  },
  {
   "cell_type": "code",
   "execution_count": 52,
   "id": "37033ec2",
   "metadata": {},
   "outputs": [
    {
     "name": "stdout",
     "output_type": "stream",
     "text": [
      "61\n",
      "FANTA\n",
      "0\n"
     ]
    }
   ],
   "source": [
    " # Belirli şartları sağlayan satırları filtreleme\n",
    "filtre = (df['KategoriAdı1'] == 'İÇECEK') & \\\n",
    "                       (df['KategoriAdı2'] == 'GAZSIZ İÇECEK') & \\\n",
    "                       (df['KategoriAdı3'] == 'SPORCU İÇECEĞİ')\n",
    "\n",
    "# Eksik değerlerin sayısını kontrol et\n",
    "kontrol1 = df.loc[filtre, 'Marka'].isnull().sum()\n",
    "print(kontrol1)\n",
    "\n",
    "# En sık geçen markayı bulma\n",
    "en_sik_marka = df.loc[filtre, 'Marka'].mode()[0]\n",
    "print(en_sik_marka)\n",
    "\n",
    "# Eksik değerleri doldurma\n",
    "df.loc[filtre, 'Marka'] = df.loc[filtre, 'Marka'].fillna(en_sik_marka)\n",
    "\n",
    "# Kontrol etme\n",
    "kontrol2 = df.loc[filtre, 'Marka'].isnull().sum()\n",
    "print(kontrol2)"
   ]
  },
  {
   "cell_type": "markdown",
   "id": "5d29fa8d",
   "metadata": {},
   "source": [
    "29.SATIR İÇİN"
   ]
  },
  {
   "cell_type": "code",
   "execution_count": 53,
   "id": "0939aeca",
   "metadata": {},
   "outputs": [
    {
     "name": "stdout",
     "output_type": "stream",
     "text": [
      "38\n",
      "GÖKÇE\n",
      "0\n"
     ]
    }
   ],
   "source": [
    " # Belirli şartları sağlayan satırları filtreleme\n",
    "filtre = (df['KategoriAdı1'] == 'İÇECEK') & \\\n",
    "                       (df['KategoriAdı2'] == 'GAZSIZ İÇECEK') & \\\n",
    "                       (df['KategoriAdı3'] == 'TOZ İÇECEK')\n",
    "\n",
    "# Eksik değerlerin sayısını kontrol et\n",
    "kontrol1 = df.loc[filtre, 'Marka'].isnull().sum()\n",
    "print(kontrol1)\n",
    "\n",
    "# En sık geçen markayı bulma\n",
    "en_sik_marka = df.loc[filtre, 'Marka'].mode()[0]\n",
    "print(en_sik_marka)\n",
    "\n",
    "# Eksik değerleri doldurma\n",
    "df.loc[filtre, 'Marka'] = df.loc[filtre, 'Marka'].fillna(en_sik_marka)\n",
    "\n",
    "# Kontrol etme\n",
    "kontrol2 = df.loc[filtre, 'Marka'].isnull().sum()\n",
    "print(kontrol2)"
   ]
  },
  {
   "cell_type": "markdown",
   "id": "e3f847bb",
   "metadata": {},
   "source": [
    "30.SATIR İÇİN"
   ]
  },
  {
   "cell_type": "code",
   "execution_count": 54,
   "id": "12eba7fc",
   "metadata": {},
   "outputs": [
    {
     "name": "stdout",
     "output_type": "stream",
     "text": [
      "8\n",
      "ERİKLİ\n",
      "0\n"
     ]
    }
   ],
   "source": [
    " # Belirli şartları sağlayan satırları filtreleme\n",
    "filtre= (df['KategoriAdı1'] == 'İÇECEK') & \\\n",
    "                       (df['KategoriAdı2'] == 'SU MADENSUYU') & \\\n",
    "                       (df['KategoriAdı3'] == 'SU')\n",
    "\n",
    "# Eksik değerlerin sayısını kontrol et\n",
    "kontrol1 = df.loc[filtre, 'Marka'].isnull().sum()\n",
    "print(kontrol1)\n",
    "\n",
    "# En sık geçen markayı bulma\n",
    "en_sik_marka = df.loc[filtre, 'Marka'].mode()[0]\n",
    "print(en_sik_marka)\n",
    "\n",
    "# Eksik değerleri doldurma\n",
    "df.loc[filtre, 'Marka'] = df.loc[filtre, 'Marka'].fillna(en_sik_marka)\n",
    "\n",
    "# Kontrol etme\n",
    "kontrol2 = df.loc[filtre, 'Marka'].isnull().sum()\n",
    "print(kontrol2)"
   ]
  },
  {
   "cell_type": "markdown",
   "id": "9be3c855",
   "metadata": {},
   "source": [
    "31.SATIR İÇİN"
   ]
  },
  {
   "cell_type": "code",
   "execution_count": 55,
   "id": "94d7a534",
   "metadata": {},
   "outputs": [
    {
     "name": "stdout",
     "output_type": "stream",
     "text": [
      "5304\n",
      "DOĞADAN\n",
      "0\n"
     ]
    }
   ],
   "source": [
    "# Belirli şartları sağlayan satırları filtreleme\n",
    "filtre = (df['KategoriAdı1'] == 'İÇECEK') & \\\n",
    "         (df['KategoriAdı2'] == 'ÇAY KAHVE') & \\\n",
    "         (df['KategoriAdı3'] == 'SEKER TATLANDIRICI')\n",
    "\n",
    "# Eksik değerlerin sayısını kontrol et\n",
    "kontrol1 = df.loc[filtre, 'Marka'].isnull().sum()\n",
    "print(kontrol1)\n",
    "\n",
    "# En sık geçen markayı bulma\n",
    "en_sik_marka = df.loc[filtre, 'Marka'].mode()[0]\n",
    "print(en_sik_marka)\n",
    "\n",
    "# Eksik değerleri doldurma\n",
    "df.loc[filtre, 'Marka'] = df.loc[filtre, 'Marka'].fillna(en_sik_marka)\n",
    "\n",
    "# Kontrol etme\n",
    "kontrol2 = df.loc[filtre, 'Marka'].isnull().sum()\n",
    "print(kontrol2)\n"
   ]
  },
  {
   "cell_type": "code",
   "execution_count": 56,
   "id": "152c187b",
   "metadata": {},
   "outputs": [
    {
     "data": {
      "text/plain": [
       "ID                      0\n",
       "ÜrünKodu                0\n",
       "ÜrünAdı                 0\n",
       "FişNo                   0\n",
       "Tarih                   0\n",
       "Miktar                  0\n",
       "Fiyat                   0\n",
       "ToplamNetSatış          0\n",
       "NetSatış                0\n",
       "ŞubeNo                  0\n",
       "Şube                    0\n",
       "SatışElemanı            0\n",
       "Şehir                   0\n",
       "Bölge                   0\n",
       "Enlem                   0\n",
       "Boylam                  0\n",
       "MüşteriKodu             0\n",
       "MüşteriAdı              0\n",
       "MarkaKodu           27540\n",
       "Marka                3794\n",
       "KategoriAdı1            0\n",
       "KategoriAdı2        19809\n",
       "KategoriAdı3       196169\n",
       "BaşlangıçTarihi         0\n",
       "BitişTarihi             0\n",
       "Cinsiyet                0\n",
       "dtype: int64"
      ]
     },
     "execution_count": 56,
     "metadata": {},
     "output_type": "execute_result"
    }
   ],
   "source": [
    "df.isnull().sum()"
   ]
  },
  {
   "cell_type": "code",
   "execution_count": 57,
   "id": "321215e1",
   "metadata": {},
   "outputs": [],
   "source": [
    "df.dropna(subset=['Marka'], inplace=True)"
   ]
  },
  {
   "cell_type": "code",
   "execution_count": 58,
   "id": "fd338938",
   "metadata": {},
   "outputs": [
    {
     "data": {
      "text/plain": [
       "ID                      0\n",
       "ÜrünKodu                0\n",
       "ÜrünAdı                 0\n",
       "FişNo                   0\n",
       "Tarih                   0\n",
       "Miktar                  0\n",
       "Fiyat                   0\n",
       "ToplamNetSatış          0\n",
       "NetSatış                0\n",
       "ŞubeNo                  0\n",
       "Şube                    0\n",
       "SatışElemanı            0\n",
       "Şehir                   0\n",
       "Bölge                   0\n",
       "Enlem                   0\n",
       "Boylam                  0\n",
       "MüşteriKodu             0\n",
       "MüşteriAdı              0\n",
       "MarkaKodu           23746\n",
       "Marka                   0\n",
       "KategoriAdı1            0\n",
       "KategoriAdı2        19809\n",
       "KategoriAdı3       192375\n",
       "BaşlangıçTarihi         0\n",
       "BitişTarihi             0\n",
       "Cinsiyet                0\n",
       "dtype: int64"
      ]
     },
     "execution_count": 58,
     "metadata": {},
     "output_type": "execute_result"
    }
   ],
   "source": [
    "df.isnull().sum()"
   ]
  },
  {
   "cell_type": "markdown",
   "id": "a25528a7",
   "metadata": {},
   "source": [
    "Makraya göre markakodunun doldurulması"
   ]
  },
  {
   "cell_type": "code",
   "execution_count": 60,
   "id": "db61a439",
   "metadata": {},
   "outputs": [],
   "source": [
    "# Her bir Marka için benzersiz Marka Kodlarını al\n",
    "marka_kodlari = df.groupby('Marka')['MarkaKodu'].first()\n",
    "\n",
    "# Marka Kodlarını eksik değerleri doldurmak için kullan\n",
    "df['MarkaKodu'] = df['MarkaKodu'].fillna(df['Marka'].map(marka_kodlari))\n"
   ]
  },
  {
   "cell_type": "code",
   "execution_count": 61,
   "id": "97d19a40",
   "metadata": {},
   "outputs": [
    {
     "data": {
      "text/plain": [
       "ID                      0\n",
       "ÜrünKodu                0\n",
       "ÜrünAdı                 0\n",
       "FişNo                   0\n",
       "Tarih                   0\n",
       "Miktar                  0\n",
       "Fiyat                   0\n",
       "ToplamNetSatış          0\n",
       "NetSatış                0\n",
       "ŞubeNo                  0\n",
       "Şube                    0\n",
       "SatışElemanı            0\n",
       "Şehir                   0\n",
       "Bölge                   0\n",
       "Enlem                   0\n",
       "Boylam                  0\n",
       "MüşteriKodu             0\n",
       "MüşteriAdı              0\n",
       "MarkaKodu               0\n",
       "Marka                   0\n",
       "KategoriAdı1            0\n",
       "KategoriAdı2        19809\n",
       "KategoriAdı3       192375\n",
       "BaşlangıçTarihi         0\n",
       "BitişTarihi             0\n",
       "Cinsiyet                0\n",
       "dtype: int64"
      ]
     },
     "execution_count": 61,
     "metadata": {},
     "output_type": "execute_result"
    }
   ],
   "source": [
    "df.isnull().sum()"
   ]
  },
  {
   "cell_type": "code",
   "execution_count": 62,
   "id": "706fc03d",
   "metadata": {},
   "outputs": [
    {
     "data": {
      "text/plain": [
       "19809"
      ]
     },
     "execution_count": 62,
     "metadata": {},
     "output_type": "execute_result"
    }
   ],
   "source": [
    "total_null_in_selected_columns3 = df[['KategoriAdı2','KategoriAdı3']].isnull().all(axis=1).sum()\n",
    "total_null_in_selected_columns3"
   ]
  },
  {
   "cell_type": "code",
   "execution_count": 63,
   "id": "1482c803",
   "metadata": {},
   "outputs": [],
   "source": [
    "df.dropna(subset=['KategoriAdı2'], inplace=True)"
   ]
  },
  {
   "cell_type": "code",
   "execution_count": 64,
   "id": "0592d321",
   "metadata": {},
   "outputs": [
    {
     "data": {
      "text/plain": [
       "ID                      0\n",
       "ÜrünKodu                0\n",
       "ÜrünAdı                 0\n",
       "FişNo                   0\n",
       "Tarih                   0\n",
       "Miktar                  0\n",
       "Fiyat                   0\n",
       "ToplamNetSatış          0\n",
       "NetSatış                0\n",
       "ŞubeNo                  0\n",
       "Şube                    0\n",
       "SatışElemanı            0\n",
       "Şehir                   0\n",
       "Bölge                   0\n",
       "Enlem                   0\n",
       "Boylam                  0\n",
       "MüşteriKodu             0\n",
       "MüşteriAdı              0\n",
       "MarkaKodu               0\n",
       "Marka                   0\n",
       "KategoriAdı1            0\n",
       "KategoriAdı2            0\n",
       "KategoriAdı3       172566\n",
       "BaşlangıçTarihi         0\n",
       "BitişTarihi             0\n",
       "Cinsiyet                0\n",
       "dtype: int64"
      ]
     },
     "execution_count": 64,
     "metadata": {},
     "output_type": "execute_result"
    }
   ],
   "source": [
    "df.isnull().sum()"
   ]
  },
  {
   "cell_type": "markdown",
   "id": "ce5e5f9e",
   "metadata": {},
   "source": [
    "KategoriAdı1,KategoriAdı2,KategoriAdı3 kolonların doldurulması"
   ]
  },
  {
   "cell_type": "code",
   "execution_count": 86,
   "id": "e35b81d4",
   "metadata": {},
   "outputs": [
    {
     "name": "stdout",
     "output_type": "stream",
     "text": [
      "  KategoriAdı1      KategoriAdı2             KategoriAdı3  Sayı\n",
      "0        BEBEK       BEBEK BAKIM     BEBEK BAKIM ARAÇLARI    38\n",
      "1        BEBEK       BEBEK BAKIM  BEBEK BAKIM MALZEMELERİ   487\n",
      "2        BEBEK       BEBEK BAKIM         LOSYON VE SÜTLER     2\n",
      "3        BEBEK       BEBEK BAKIM                 PUDRALAR     7\n",
      "4        BEBEK       BEBEK BAKIM                SABUNLARI    26\n",
      "5        BEBEK       BEBEK BAKIM               ŞAMPUANLAR    87\n",
      "6        BEBEK  HAZIR YEMEK MAMA        BEBEK BİSKÜVİLERİ  2075\n",
      "7        BEBEK  HAZIR YEMEK MAMA         BİBERON MAMALARI   160\n",
      "8        BEBEK  HAZIR YEMEK MAMA            HAZIR MAMALAR   672\n",
      "9        BEBEK     ÇOCUK BEZLERİ                   BEZLER  1779\n"
     ]
    }
   ],
   "source": [
    "# Gruplama için sütunları birleştirme\n",
    "liste = [df['KategoriAdı1'], df['KategoriAdı2'], df['KategoriAdı3']]\n",
    "gruplanmis_veri = df.groupby(liste)\n",
    "\n",
    "# Sayıları hesaplama\n",
    "sayilar = gruplanmis_veri.size()\n",
    "\n",
    "# İndeksleri sütunlara dönüştürme ve tablo oluşturma\n",
    "tablo = sayilar.reset_index(name='Sayı')\n",
    "\n",
    "# Sonucu görüntüleme\n",
    "print(tablo.head(10))\n",
    "\n"
   ]
  },
  {
   "cell_type": "markdown",
   "id": "bb43b548",
   "metadata": {},
   "source": [
    "0,1,2,3,4 VE 5 İÇİN"
   ]
  },
  {
   "cell_type": "code",
   "execution_count": 66,
   "id": "4d11b953",
   "metadata": {},
   "outputs": [
    {
     "name": "stdout",
     "output_type": "stream",
     "text": [
      "Eksik değerlerin sayısı: 6\n",
      "En sık geçen marka: BEBEK BAKIM MALZEMELERİ\n",
      "Eksik değerlerin sayısı (doldurulduktan sonra): 0\n"
     ]
    }
   ],
   "source": [
    "# Belirli şartları sağlayan satırları filtreleme\n",
    "filtre = (df['KategoriAdı1'] == 'BEBEK') & \\\n",
    "         (df['KategoriAdı2'] == 'BEBEK BAKIM')\n",
    "\n",
    "# Eksik değerlerin sayısını kontrol et\n",
    "kontrol1 = df.loc[filtre, 'KategoriAdı3'].isnull().sum()\n",
    "print(\"Eksik değerlerin sayısı:\", kontrol1)\n",
    "\n",
    "# En sık geçen Kategori Adı3  bulma\n",
    "en_sik_marka = df.loc[filtre, 'KategoriAdı3'].mode()[0]\n",
    "print(\"En sık geçen marka:\", en_sik_marka)\n",
    "\n",
    "# Eksik değerleri doldurma\n",
    "df.loc[filtre, 'KategoriAdı3'] = df.loc[filtre, 'KategoriAdı3'].fillna(en_sik_marka)\n",
    "\n",
    "# Kontrol etme\n",
    "kontrol2 = df.loc[filtre, 'KategoriAdı3'].isnull().sum()\n",
    "print(\"Eksik değerlerin sayısı (doldurulduktan sonra):\", kontrol2)\n"
   ]
  },
  {
   "cell_type": "markdown",
   "id": "7f1966c8",
   "metadata": {},
   "source": [
    "6,7 VE 8 İÇİN"
   ]
  },
  {
   "cell_type": "code",
   "execution_count": 67,
   "id": "e61fc4a0",
   "metadata": {},
   "outputs": [
    {
     "name": "stdout",
     "output_type": "stream",
     "text": [
      "Eksik değerlerin sayısı: 1253\n",
      "En sık geçen marka: BEBEK BİSKÜVİLERİ\n",
      "Eksik değerlerin sayısı (doldurulduktan sonra): 0\n"
     ]
    }
   ],
   "source": [
    "# Belirli şartları sağlayan satırları filtreleme\n",
    "filtre = (df['KategoriAdı1'] == 'BEBEK') & \\\n",
    "         (df['KategoriAdı2'] == 'HAZIR YEMEK MAMA')\n",
    "\n",
    "# Eksik değerlerin sayısını kontrol et\n",
    "kontrol1 = df.loc[filtre, 'KategoriAdı3'].isnull().sum()\n",
    "print(\"Eksik değerlerin sayısı:\", kontrol1)\n",
    "\n",
    "# En sık geçen Kategori Adı3  bulma\n",
    "en_sik_marka = df.loc[filtre, 'KategoriAdı3'].mode()[0]\n",
    "print(\"En sık geçen marka:\", en_sik_marka)\n",
    "\n",
    "# Eksik değerleri doldurma\n",
    "df.loc[filtre, 'KategoriAdı3'] = df.loc[filtre, 'KategoriAdı3'].fillna(en_sik_marka)\n",
    "\n",
    "# Kontrol etme\n",
    "kontrol2 = df.loc[filtre, 'KategoriAdı3'].isnull().sum()\n",
    "print(\"Eksik değerlerin sayısı (doldurulduktan sonra):\", kontrol2)\n"
   ]
  },
  {
   "cell_type": "markdown",
   "id": "5c01588f",
   "metadata": {},
   "source": [
    "10 VE 11 İÇİN"
   ]
  },
  {
   "cell_type": "code",
   "execution_count": 68,
   "id": "4b2f290c",
   "metadata": {},
   "outputs": [
    {
     "name": "stdout",
     "output_type": "stream",
     "text": [
      "Eksik değerlerin sayısı: 94\n",
      "En sık geçen marka: ELDE YIKAMA\n",
      "Eksik değerlerin sayısı (doldurulduktan sonra): 0\n"
     ]
    }
   ],
   "source": [
    "# Belirli şartları sağlayan satırları filtreleme\n",
    "filtre = (df['KategoriAdı1'] == 'DETERJAN TEMİZLİK') & \\\n",
    "         (df['KategoriAdı2'] == 'BULAŞIK YIKAMA')\n",
    "\n",
    "# Eksik değerlerin sayısını kontrol et\n",
    "kontrol1 = df.loc[filtre, 'KategoriAdı3'].isnull().sum()\n",
    "print(\"Eksik değerlerin sayısı:\", kontrol1)\n",
    "\n",
    "# En sık geçen Kategori Adı3  bulma\n",
    "en_sik_marka = df.loc[filtre, 'KategoriAdı3'].mode()[0]\n",
    "print(\"En sık geçen marka:\", en_sik_marka)\n",
    "\n",
    "# Eksik değerleri doldurma\n",
    "df.loc[filtre, 'KategoriAdı3'] = df.loc[filtre, 'KategoriAdı3'].fillna(en_sik_marka)\n",
    "\n",
    "# Kontrol etme\n",
    "kontrol2 = df.loc[filtre, 'KategoriAdı3'].isnull().sum()\n",
    "print(\"Eksik değerlerin sayısı (doldurulduktan sonra):\", kontrol2)\n"
   ]
  },
  {
   "cell_type": "markdown",
   "id": "82080534",
   "metadata": {},
   "source": [
    "12:21 İÇİN"
   ]
  },
  {
   "cell_type": "code",
   "execution_count": 69,
   "id": "759a3fe3",
   "metadata": {},
   "outputs": [
    {
     "name": "stdout",
     "output_type": "stream",
     "text": [
      "Eksik değerlerin sayısı: 157\n",
      "En sık geçen marka: MUTFAK BANYO TEMİZLEYİCİ\n",
      "Eksik değerlerin sayısı (doldurulduktan sonra): 0\n"
     ]
    }
   ],
   "source": [
    "# Belirli şartları sağlayan satırları filtreleme\n",
    "filtre = (df['KategoriAdı1'] == 'DETERJAN TEMİZLİK') & \\\n",
    "         (df['KategoriAdı2'] == 'EV TEMİZLEYİCİ')\n",
    "\n",
    "# Eksik değerlerin sayısını kontrol et\n",
    "kontrol1 = df.loc[filtre, 'KategoriAdı3'].isnull().sum()\n",
    "print(\"Eksik değerlerin sayısı:\", kontrol1)\n",
    "\n",
    "# En sık geçen Kategori Adı3  bulma\n",
    "en_sik_marka = df.loc[filtre, 'KategoriAdı3'].mode()[0]\n",
    "print(\"En sık geçen marka:\", en_sik_marka)\n",
    "\n",
    "# Eksik değerleri doldurma\n",
    "df.loc[filtre, 'KategoriAdı3'] = df.loc[filtre, 'KategoriAdı3'].fillna(en_sik_marka)\n",
    "\n",
    "# Kontrol etme\n",
    "kontrol2 = df.loc[filtre, 'KategoriAdı3'].isnull().sum()\n",
    "print(\"Eksik değerlerin sayısı (doldurulduktan sonra):\", kontrol2)\n"
   ]
  },
  {
   "cell_type": "markdown",
   "id": "b464b13e",
   "metadata": {},
   "source": [
    "22,23 VE 24 İÇİN"
   ]
  },
  {
   "cell_type": "code",
   "execution_count": 70,
   "id": "f7738add",
   "metadata": {},
   "outputs": [
    {
     "name": "stdout",
     "output_type": "stream",
     "text": [
      "Eksik değerlerin sayısı: 1332\n",
      "En sık geçen marka: TEMİZLİK AMAÇLI BEZLER\n",
      "Eksik değerlerin sayısı (doldurulduktan sonra): 0\n"
     ]
    }
   ],
   "source": [
    "# Belirli şartları sağlayan satırları filtreleme\n",
    "filtre = (df['KategoriAdı1'] == 'DETERJAN TEMİZLİK') & \\\n",
    "         (df['KategoriAdı2'] == 'EV TEMİZLİK GEREÇLERİ')\n",
    "\n",
    "# Eksik değerlerin sayısını kontrol et\n",
    "kontrol1 = df.loc[filtre, 'KategoriAdı3'].isnull().sum()\n",
    "print(\"Eksik değerlerin sayısı:\", kontrol1)\n",
    "\n",
    "# En sık geçen Kategori Adı3  bulma\n",
    "en_sik_marka = df.loc[filtre, 'KategoriAdı3'].mode()[0]\n",
    "print(\"En sık geçen marka:\", en_sik_marka)\n",
    "\n",
    "# Eksik değerleri doldurma\n",
    "df.loc[filtre, 'KategoriAdı3'] = df.loc[filtre, 'KategoriAdı3'].fillna(en_sik_marka)\n",
    "\n",
    "# Kontrol etme\n",
    "kontrol2 = df.loc[filtre, 'KategoriAdı3'].isnull().sum()\n",
    "print(\"Eksik değerlerin sayısı (doldurulduktan sonra):\", kontrol2)\n"
   ]
  },
  {
   "cell_type": "markdown",
   "id": "3b1436b4",
   "metadata": {},
   "source": [
    "25:31 İÇİN"
   ]
  },
  {
   "cell_type": "code",
   "execution_count": 71,
   "id": "b11d44d7",
   "metadata": {},
   "outputs": [
    {
     "name": "stdout",
     "output_type": "stream",
     "text": [
      "Eksik değerlerin sayısı: 0\n",
      "En sık geçen marka: ÇAMAŞIR SULARI\n",
      "Eksik değerlerin sayısı (doldurulduktan sonra): 0\n"
     ]
    }
   ],
   "source": [
    "# Belirli şartları sağlayan satırları filtreleme\n",
    "filtre = (df['KategoriAdı1'] == 'DETERJAN TEMİZLİK') & \\\n",
    "         (df['KategoriAdı2'] == 'ÇAMAŞIR YIKAMA')\n",
    "\n",
    "# Eksik değerlerin sayısını kontrol et\n",
    "kontrol1 = df.loc[filtre, 'KategoriAdı3'].isnull().sum()\n",
    "print(\"Eksik değerlerin sayısı:\", kontrol1)\n",
    "\n",
    "# En sık geçen Kategori Adı3  bulma\n",
    "en_sik_marka = df.loc[filtre, 'KategoriAdı3'].mode()[0]\n",
    "print(\"En sık geçen marka:\", en_sik_marka)\n",
    "\n",
    "# Eksik değerleri doldurma\n",
    "df.loc[filtre, 'KategoriAdı3'] = df.loc[filtre, 'KategoriAdı3'].fillna(en_sik_marka)\n",
    "\n",
    "# Kontrol etme\n",
    "kontrol2 = df.loc[filtre, 'KategoriAdı3'].isnull().sum()\n",
    "print(\"Eksik değerlerin sayısı (doldurulduktan sonra):\", kontrol2)\n"
   ]
  },
  {
   "cell_type": "markdown",
   "id": "aca59515",
   "metadata": {},
   "source": [
    "32:36 İÇİN"
   ]
  },
  {
   "cell_type": "code",
   "execution_count": 72,
   "id": "d5027cb8",
   "metadata": {},
   "outputs": [
    {
     "name": "stdout",
     "output_type": "stream",
     "text": [
      "Eksik değerlerin sayısı: 0\n",
      "En sık geçen marka: SALAM\n",
      "Eksik değerlerin sayısı (doldurulduktan sonra): 0\n"
     ]
    }
   ],
   "source": [
    "# Belirli şartları sağlayan satırları filtreleme\n",
    "filtre = (df['KategoriAdı1'] == 'ET TAVUK') & \\\n",
    "         (df['KategoriAdı2'] == 'ET ŞARKÜTERİ')\n",
    "\n",
    "# Eksik değerlerin sayısını kontrol et\n",
    "kontrol1 = df.loc[filtre, 'KategoriAdı3'].isnull().sum()\n",
    "print(\"Eksik değerlerin sayısı:\", kontrol1)\n",
    "\n",
    "# En sık geçen Kategori Adı3  bulma\n",
    "en_sik_marka = df.loc[filtre, 'KategoriAdı3'].mode()[0]\n",
    "print(\"En sık geçen marka:\", en_sik_marka)\n",
    "\n",
    "# Eksik değerleri doldurma\n",
    "df.loc[filtre, 'KategoriAdı3'] = df.loc[filtre, 'KategoriAdı3'].fillna(en_sik_marka)\n",
    "\n",
    "# Kontrol etme\n",
    "kontrol2 = df.loc[filtre, 'KategoriAdı3'].isnull().sum()\n",
    "print(\"Eksik değerlerin sayısı (doldurulduktan sonra):\", kontrol2)\n"
   ]
  },
  {
   "cell_type": "markdown",
   "id": "124a5c2b",
   "metadata": {},
   "source": [
    "37 VE 38 İÇİN"
   ]
  },
  {
   "cell_type": "code",
   "execution_count": 73,
   "id": "5bc641e5",
   "metadata": {},
   "outputs": [
    {
     "name": "stdout",
     "output_type": "stream",
     "text": [
      "Eksik değerlerin sayısı: 0\n",
      "En sık geçen marka: DANA\n",
      "Eksik değerlerin sayısı (doldurulduktan sonra): 0\n"
     ]
    }
   ],
   "source": [
    "# Belirli şartları sağlayan satırları filtreleme\n",
    "filtre = (df['KategoriAdı1'] == 'ET TAVUK') & \\\n",
    "         (df['KategoriAdı2'] == 'KIRMIZI ET')\n",
    "\n",
    "# Eksik değerlerin sayısını kontrol et\n",
    "kontrol1 = df.loc[filtre, 'KategoriAdı3'].isnull().sum()\n",
    "print(\"Eksik değerlerin sayısı:\", kontrol1)\n",
    "\n",
    "# En sık geçen Kategori Adı3  bulma\n",
    "en_sik_marka = df.loc[filtre, 'KategoriAdı3'].mode()[0]\n",
    "print(\"En sık geçen marka:\", en_sik_marka)\n",
    "\n",
    "# Eksik değerleri doldurma\n",
    "df.loc[filtre, 'KategoriAdı3'] = df.loc[filtre, 'KategoriAdı3'].fillna(en_sik_marka)\n",
    "\n",
    "# Kontrol etme\n",
    "kontrol2 = df.loc[filtre, 'KategoriAdı3'].isnull().sum()\n",
    "print(\"Eksik değerlerin sayısı (doldurulduktan sonra):\", kontrol2)\n"
   ]
  },
  {
   "cell_type": "markdown",
   "id": "496f8768",
   "metadata": {},
   "source": [
    "39 İÇİN"
   ]
  },
  {
   "cell_type": "code",
   "execution_count": 74,
   "id": "5fd2e17e",
   "metadata": {},
   "outputs": [
    {
     "name": "stdout",
     "output_type": "stream",
     "text": [
      "Eksik değerlerin sayısı: 0\n",
      "En sık geçen marka: PİLİÇ\n",
      "Eksik değerlerin sayısı (doldurulduktan sonra): 0\n"
     ]
    }
   ],
   "source": [
    "# Belirli şartları sağlayan satırları filtreleme\n",
    "filtre = (df['KategoriAdı1'] == 'ET TAVUK') & \\\n",
    "         (df['KategoriAdı2'] == 'KÜMES HAYVANLARI')\n",
    "\n",
    "# Eksik değerlerin sayısını kontrol et\n",
    "kontrol1 = df.loc[filtre, 'KategoriAdı3'].isnull().sum()\n",
    "print(\"Eksik değerlerin sayısı:\", kontrol1)\n",
    "\n",
    "# En sık geçen Kategori Adı3  bulma\n",
    "en_sik_marka = df.loc[filtre, 'KategoriAdı3'].mode()[0]\n",
    "print(\"En sık geçen marka:\", en_sik_marka)\n",
    "\n",
    "# Eksik değerleri doldurma\n",
    "df.loc[filtre, 'KategoriAdı3'] = df.loc[filtre, 'KategoriAdı3'].fillna(en_sik_marka)\n",
    "\n",
    "# Kontrol etme\n",
    "kontrol2 = df.loc[filtre, 'KategoriAdı3'].isnull().sum()\n",
    "print(\"Eksik değerlerin sayısı (doldurulduktan sonra):\", kontrol2)\n"
   ]
  },
  {
   "cell_type": "markdown",
   "id": "4354f2f6",
   "metadata": {},
   "source": [
    "40 VE 41 İÇİN "
   ]
  },
  {
   "cell_type": "code",
   "execution_count": 75,
   "id": "6dc1712e",
   "metadata": {},
   "outputs": [
    {
     "name": "stdout",
     "output_type": "stream",
     "text": [
      "Eksik değerlerin sayısı: 0\n",
      "En sık geçen marka: AYDINLATMA\n",
      "Eksik değerlerin sayısı (doldurulduktan sonra): 0\n"
     ]
    }
   ],
   "source": [
    "# Belirli şartları sağlayan satırları filtreleme\n",
    "filtre = (df['KategoriAdı1'] == 'EV') & \\\n",
    "         (df['KategoriAdı2'] == 'ELEKTRONİK')\n",
    "\n",
    "# Eksik değerlerin sayısını kontrol et\n",
    "kontrol1 = df.loc[filtre, 'KategoriAdı3'].isnull().sum()\n",
    "print(\"Eksik değerlerin sayısı:\", kontrol1)\n",
    "\n",
    "# En sık geçen Kategori Adı3  bulma\n",
    "en_sik_marka = df.loc[filtre, 'KategoriAdı3'].mode()[0]\n",
    "print(\"En sık geçen marka:\", en_sik_marka)\n",
    "\n",
    "# Eksik değerleri doldurma\n",
    "df.loc[filtre, 'KategoriAdı3'] = df.loc[filtre, 'KategoriAdı3'].fillna(en_sik_marka)\n",
    "\n",
    "# Kontrol etme\n",
    "kontrol2 = df.loc[filtre, 'KategoriAdı3'].isnull().sum()\n",
    "print(\"Eksik değerlerin sayısı (doldurulduktan sonra):\", kontrol2)\n"
   ]
  },
  {
   "cell_type": "markdown",
   "id": "5872fd64",
   "metadata": {},
   "source": [
    "42 İÇİN"
   ]
  },
  {
   "cell_type": "code",
   "execution_count": 76,
   "id": "4d20e329",
   "metadata": {},
   "outputs": [
    {
     "name": "stdout",
     "output_type": "stream",
     "text": [
      "Eksik değerlerin sayısı: 1\n",
      "En sık geçen marka: MUTFAK\n",
      "Eksik değerlerin sayısı (doldurulduktan sonra): 0\n"
     ]
    }
   ],
   "source": [
    "# Belirli şartları sağlayan satırları filtreleme\n",
    "filtre = (df['KategoriAdı1'] == 'EV') & \\\n",
    "         (df['KategoriAdı2'] == 'EV TEKSTİL')\n",
    "\n",
    "# Eksik değerlerin sayısını kontrol et\n",
    "kontrol1 = df.loc[filtre, 'KategoriAdı3'].isnull().sum()\n",
    "print(\"Eksik değerlerin sayısı:\", kontrol1)\n",
    "\n",
    "# En sık geçen Kategori Adı3  bulma\n",
    "en_sik_marka = df.loc[filtre, 'KategoriAdı3'].mode()[0]\n",
    "print(\"En sık geçen marka:\", en_sik_marka)\n",
    "\n",
    "# Eksik değerleri doldurma\n",
    "df.loc[filtre, 'KategoriAdı3'] = df.loc[filtre, 'KategoriAdı3'].fillna(en_sik_marka)\n",
    "\n",
    "# Kontrol etme\n",
    "kontrol2 = df.loc[filtre, 'KategoriAdı3'].isnull().sum()\n",
    "print(\"Eksik değerlerin sayısı (doldurulduktan sonra):\", kontrol2)\n"
   ]
  },
  {
   "cell_type": "markdown",
   "id": "23450ab7",
   "metadata": {},
   "source": [
    "43:49 İÇİN"
   ]
  },
  {
   "cell_type": "code",
   "execution_count": 77,
   "id": "3a81fe74",
   "metadata": {},
   "outputs": [
    {
     "name": "stdout",
     "output_type": "stream",
     "text": [
      "Eksik değerlerin sayısı: 155\n",
      "En sık geçen marka: MUTFAK SARF MALZEMESİ\n",
      "Eksik değerlerin sayısı (doldurulduktan sonra): 0\n"
     ]
    }
   ],
   "source": [
    "# Belirli şartları sağlayan satırları filtreleme\n",
    "filtre = (df['KategoriAdı1'] == 'EV') & \\\n",
    "         (df['KategoriAdı2'] == 'MUTFAK EŞYA GEREÇLERİ')\n",
    "\n",
    "# Eksik değerlerin sayısını kontrol et\n",
    "kontrol1 = df.loc[filtre, 'KategoriAdı3'].isnull().sum()\n",
    "print(\"Eksik değerlerin sayısı:\", kontrol1)\n",
    "\n",
    "# En sık geçen Kategori Adı3  bulma\n",
    "en_sik_marka = df.loc[filtre, 'KategoriAdı3'].mode()[0]\n",
    "print(\"En sık geçen marka:\", en_sik_marka)\n",
    "\n",
    "# Eksik değerleri doldurma\n",
    "df.loc[filtre, 'KategoriAdı3'] = df.loc[filtre, 'KategoriAdı3'].fillna(en_sik_marka)\n",
    "\n",
    "# Kontrol etme\n",
    "kontrol2 = df.loc[filtre, 'KategoriAdı3'].isnull().sum()\n",
    "print(\"Eksik değerlerin sayısı (doldurulduktan sonra):\", kontrol2)\n"
   ]
  },
  {
   "cell_type": "code",
   "execution_count": null,
   "id": "eb95fa12",
   "metadata": {},
   "outputs": [],
   "source": [
    "# Belirli şartları sağlayan satırları filtreleme\n",
    "filtre = (df['KategoriAdı1'] == 'EV') & \\\n",
    "         (df['KategoriAdı2'] == 'İÇ GİYİM AKSESUAR')\n",
    "\n",
    "# Eksik değerlerin sayısını kontrol et\n",
    "kontrol1 = df.loc[filtre, 'KategoriAdı3'].isnull().sum()\n",
    "print(\"Eksik değerlerin sayısı:\", kontrol1)\n",
    "\n",
    "# En sık geçen Kategori Adı3  bulma\n",
    "en_sik_marka = df.loc[filtre, 'KategoriAdı3'].mode()[0]\n",
    "print(\"En sık geçen marka:\", en_sik_marka)\n",
    "\n",
    "# Eksik değerleri doldurma\n",
    "df.loc[filtre, 'KategoriAdı3'] = df.loc[filtre, 'KategoriAdı3'].fillna(en_sik_marka)\n",
    "\n",
    "# Kontrol etme\n",
    "kontrol2 = df.loc[filtre, 'KategoriAdı3'].isnull().sum()\n",
    "print(\"Eksik değerlerin sayısı (doldurulduktan sonra):\", kontrol2)\n"
   ]
  },
  {
   "cell_type": "markdown",
   "id": "4b1853de",
   "metadata": {},
   "source": [
    "53 VE 54 İÇİN"
   ]
  },
  {
   "cell_type": "code",
   "execution_count": null,
   "id": "2cea3591",
   "metadata": {},
   "outputs": [],
   "source": [
    "# Belirli şartları sağlayan satırları filtreleme\n",
    "filtre = (df['KategoriAdı1'] == 'GIDA') & \\\n",
    "         (df['KategoriAdı2'] == 'BAKLİYAT')\n",
    "\n",
    "# Eksik değerlerin sayısını kontrol et\n",
    "kontrol1 = df.loc[filtre, 'KategoriAdı3'].isnull().sum()\n",
    "print(\"Eksik değerlerin sayısı:\", kontrol1)\n",
    "\n",
    "# En sık geçen Kategori Adı3  bulma\n",
    "en_sik_marka = df.loc[filtre, 'KategoriAdı3'].mode()[0]\n",
    "print(\"En sık geçen marka:\", en_sik_marka)\n",
    "\n",
    "# Eksik değerleri doldurma\n",
    "df.loc[filtre, 'KategoriAdı3'] = df.loc[filtre, 'KategoriAdı3'].fillna(en_sik_marka)\n",
    "\n",
    "# Kontrol etme\n",
    "kontrol2 = df.loc[filtre, 'KategoriAdı3'].isnull().sum()\n",
    "print(\"Eksik değerlerin sayısı (doldurulduktan sonra):\", kontrol2)"
   ]
  },
  {
   "cell_type": "markdown",
   "id": "d2ae5b8c",
   "metadata": {},
   "source": [
    "55 İÇİN"
   ]
  },
  {
   "cell_type": "code",
   "execution_count": null,
   "id": "3f721126",
   "metadata": {},
   "outputs": [],
   "source": [
    "# Belirli şartları sağlayan satırları filtreleme\n",
    "filtre = (df['KategoriAdı1'] == 'GIDA') & \\\n",
    "         (df['KategoriAdı2'] == 'BAYRAMLIK')\n",
    "\n",
    "# Eksik değerlerin sayısını kontrol et\n",
    "kontrol1 = df.loc[filtre, 'KategoriAdı3'].isnull().sum()\n",
    "print(\"Eksik değerlerin sayısı:\", kontrol1)\n",
    "\n",
    "# En sık geçen Kategori Adı3  bulma\n",
    "en_sik_marka = df.loc[filtre, 'KategoriAdı3'].mode()[0]\n",
    "print(\"En sık geçen marka:\", en_sik_marka)\n",
    "\n",
    "# Eksik değerleri doldurma\n",
    "df.loc[filtre, 'KategoriAdı3'] = df.loc[filtre, 'KategoriAdı3'].fillna(en_sik_marka)\n",
    "\n",
    "# Kontrol etme\n",
    "kontrol2 = df.loc[filtre, 'KategoriAdı3'].isnull().sum()\n",
    "print(\"Eksik değerlerin sayısı (doldurulduktan sonra):\", kontrol2)"
   ]
  },
  {
   "cell_type": "markdown",
   "id": "19e42ab0",
   "metadata": {},
   "source": [
    "56:60 İÇİN"
   ]
  },
  {
   "cell_type": "code",
   "execution_count": null,
   "id": "e22216e7",
   "metadata": {},
   "outputs": [],
   "source": [
    "# Belirli şartları sağlayan satırları filtreleme\n",
    "filtre = (df['KategoriAdı1'] == 'GIDA') & \\\n",
    "         (df['KategoriAdı2'] == 'BÜSKİVİ ÇEREZ')\n",
    "\n",
    "# Eksik değerlerin sayısını kontrol et\n",
    "kontrol1 = df.loc[filtre, 'KategoriAdı3'].isnull().sum()\n",
    "print(\"Eksik değerlerin sayısı:\", kontrol1)\n",
    "\n",
    "# En sık geçen Kategori Adı3  bulma\n",
    "en_sik_marka = df.loc[filtre, 'KategoriAdı3'].mode()[0]\n",
    "print(\"En sık geçen marka:\", en_sik_marka)\n",
    "\n",
    "# Eksik değerleri doldurma\n",
    "df.loc[filtre, 'KategoriAdı3'] = df.loc[filtre, 'KategoriAdı3'].fillna(en_sik_marka)\n",
    "\n",
    "# Kontrol etme\n",
    "kontrol2 = df.loc[filtre, 'KategoriAdı3'].isnull().sum()\n",
    "print(\"Eksik değerlerin sayısı (doldurulduktan sonra):\", kontrol2)"
   ]
  },
  {
   "cell_type": "markdown",
   "id": "8e6c6bcd",
   "metadata": {},
   "source": [
    "61 VE 62 İÇİN"
   ]
  },
  {
   "cell_type": "code",
   "execution_count": null,
   "id": "8baddb39",
   "metadata": {},
   "outputs": [],
   "source": [
    "# Belirli şartları sağlayan satırları filtreleme\n",
    "filtre = (df['KategoriAdı1'] == 'GIDA') & \\\n",
    "         (df['KategoriAdı2'] == 'CORBA BULYON')\n",
    "\n",
    "# Eksik değerlerin sayısını kontrol et\n",
    "kontrol1 = df.loc[filtre, 'KategoriAdı3'].isnull().sum()\n",
    "print(\"Eksik değerlerin sayısı:\", kontrol1)\n",
    "\n",
    "# En sık geçen Kategori Adı3  bulma\n",
    "en_sik_marka = df.loc[filtre, 'KategoriAdı3'].mode()[0]\n",
    "print(\"En sık geçen marka:\", en_sik_marka)\n",
    "\n",
    "# Eksik değerleri doldurma\n",
    "df.loc[filtre, 'KategoriAdı3'] = df.loc[filtre, 'KategoriAdı3'].fillna(en_sik_marka)\n",
    "\n",
    "# Kontrol etme\n",
    "kontrol2 = df.loc[filtre, 'KategoriAdı3'].isnull().sum()\n",
    "print(\"Eksik değerlerin sayısı (doldurulduktan sonra):\", kontrol2)"
   ]
  },
  {
   "cell_type": "markdown",
   "id": "a0980a34",
   "metadata": {},
   "source": [
    "63:70 İÇİN"
   ]
  },
  {
   "cell_type": "code",
   "execution_count": null,
   "id": "4540643a",
   "metadata": {},
   "outputs": [],
   "source": [
    "# Belirli şartları sağlayan satırları filtreleme\n",
    "filtre = (df['KategoriAdı1'] == 'GIDA') & \\\n",
    "         (df['KategoriAdı2'] == 'HAZIR YEMEKLER')\n",
    "\n",
    "# Eksik değerlerin sayısını kontrol et\n",
    "kontrol1 = df.loc[filtre, 'KategoriAdı3'].isnull().sum()\n",
    "print(\"Eksik değerlerin sayısı:\", kontrol1)\n",
    "\n",
    "# En sık geçen Kategori Adı3  bulma\n",
    "en_sik_marka = df.loc[filtre, 'KategoriAdı3'].mode()[0]\n",
    "print(\"En sık geçen marka:\", en_sik_marka)\n",
    "\n",
    "# Eksik değerleri doldurma\n",
    "df.loc[filtre, 'KategoriAdı3'] = df.loc[filtre, 'KategoriAdı3'].fillna(en_sik_marka)\n",
    "\n",
    "# Kontrol etme\n",
    "kontrol2 = df.loc[filtre, 'KategoriAdı3'].isnull().sum()\n",
    "print(\"Eksik değerlerin sayısı (doldurulduktan sonra):\", kontrol2)"
   ]
  },
  {
   "cell_type": "markdown",
   "id": "cd2820aa",
   "metadata": {},
   "source": [
    "71 İÇİN"
   ]
  },
  {
   "cell_type": "code",
   "execution_count": null,
   "id": "4428d107",
   "metadata": {},
   "outputs": [],
   "source": [
    "# Belirli şartları sağlayan satırları filtreleme\n",
    "filtre = (df['KategoriAdı1'] == 'GIDA') & \\\n",
    "         (df['KategoriAdı2'] == 'MAKARNA')\n",
    "\n",
    "# Eksik değerlerin sayısını kontrol et\n",
    "kontrol1 = df.loc[filtre, 'KategoriAdı3'].isnull().sum()\n",
    "print(\"Eksik değerlerin sayısı:\", kontrol1)\n",
    "\n",
    "# En sık geçen Kategori Adı3  bulma\n",
    "en_sik_marka = df.loc[filtre, 'KategoriAdı3'].mode()[0]\n",
    "print(\"En sık geçen marka:\", en_sik_marka)\n",
    "\n",
    "# Eksik değerleri doldurma\n",
    "df.loc[filtre, 'KategoriAdı3'] = df.loc[filtre, 'KategoriAdı3'].fillna(en_sik_marka)\n",
    "\n",
    "# Kontrol etme\n",
    "kontrol2 = df.loc[filtre, 'KategoriAdı3'].isnull().sum()\n",
    "print(\"Eksik değerlerin sayısı (doldurulduktan sonra):\", kontrol2)"
   ]
  },
  {
   "cell_type": "markdown",
   "id": "880fc192",
   "metadata": {},
   "source": [
    "72 VE 73 İÇİN"
   ]
  },
  {
   "cell_type": "code",
   "execution_count": null,
   "id": "3d93e24c",
   "metadata": {},
   "outputs": [],
   "source": [
    "# Belirli şartları sağlayan satırları filtreleme\n",
    "filtre = (df['KategoriAdı1'] == 'GIDA') & \\\n",
    "         (df['KategoriAdı2'] == 'SAKIZ SEKERLEME')\n",
    "\n",
    "# Eksik değerlerin sayısını kontrol et\n",
    "kontrol1 = df.loc[filtre, 'KategoriAdı3'].isnull().sum()\n",
    "print(\"Eksik değerlerin sayısı:\", kontrol1)\n",
    "\n",
    "# En sık geçen Kategori Adı3  bulma\n",
    "en_sik_marka = df.loc[filtre, 'KategoriAdı3'].mode()[0]\n",
    "print(\"En sık geçen marka:\", en_sik_marka)\n",
    "\n",
    "# Eksik değerleri doldurma\n",
    "df.loc[filtre, 'KategoriAdı3'] = df.loc[filtre, 'KategoriAdı3'].fillna(en_sik_marka)\n",
    "\n",
    "# Kontrol etme\n",
    "kontrol2 = df.loc[filtre, 'KategoriAdı3'].isnull().sum()\n",
    "print(\"Eksik değerlerin sayısı (doldurulduktan sonra):\", kontrol2)"
   ]
  },
  {
   "cell_type": "markdown",
   "id": "bf081b92",
   "metadata": {},
   "source": [
    "74 VE 79 İÇİN "
   ]
  },
  {
   "cell_type": "code",
   "execution_count": null,
   "id": "4829e5fc",
   "metadata": {},
   "outputs": [],
   "source": [
    "# Belirli şartları sağlayan satırları filtreleme\n",
    "filtre = (df['KategoriAdı1'] == 'GIDA') & \\\n",
    "         (df['KategoriAdı2'] == 'SIVI YAĞLAR')\n",
    "\n",
    "# Eksik değerlerin sayısını kontrol et\n",
    "kontrol1 = df.loc[filtre, 'KategoriAdı3'].isnull().sum()\n",
    "print(\"Eksik değerlerin sayısı:\", kontrol1)\n",
    "\n",
    "# En sık geçen Kategori Adı3  bulma\n",
    "en_sik_marka = df.loc[filtre, 'KategoriAdı3'].mode()[0]\n",
    "print(\"En sık geçen marka:\", en_sik_marka)\n",
    "\n",
    "# Eksik değerleri doldurma\n",
    "df.loc[filtre, 'KategoriAdı3'] = df.loc[filtre, 'KategoriAdı3'].fillna(en_sik_marka)\n",
    "\n",
    "# Kontrol etme\n",
    "kontrol2 = df.loc[filtre, 'KategoriAdı3'].isnull().sum()\n",
    "print(\"Eksik değerlerin sayısı (doldurulduktan sonra):\", kontrol2)"
   ]
  },
  {
   "cell_type": "markdown",
   "id": "c0635c26",
   "metadata": {},
   "source": [
    "80:83 İÇİN "
   ]
  },
  {
   "cell_type": "code",
   "execution_count": null,
   "id": "6b24fb13",
   "metadata": {},
   "outputs": [],
   "source": [
    "# Belirli şartları sağlayan satırları filtreleme\n",
    "filtre = (df['KategoriAdı1'] == 'GIDA') & \\\n",
    "         (df['KategoriAdı2'] == 'TUZ BAHARAT')\n",
    "\n",
    "# Eksik değerlerin sayısını kontrol et\n",
    "kontrol1 = df.loc[filtre, 'KategoriAdı3'].isnull().sum()\n",
    "print(\"Eksik değerlerin sayısı:\", kontrol1)\n",
    "\n",
    "# En sık geçen Kategori Adı3  bulma\n",
    "en_sik_marka = df.loc[filtre, 'KategoriAdı3'].mode()[0]\n",
    "print(\"En sık geçen marka:\", en_sik_marka)\n",
    "\n",
    "# Eksik değerleri doldurma\n",
    "df.loc[filtre, 'KategoriAdı3'] = df.loc[filtre, 'KategoriAdı3'].fillna(en_sik_marka)\n",
    "\n",
    "# Kontrol etme\n",
    "kontrol2 = df.loc[filtre, 'KategoriAdı3'].isnull().sum()\n",
    "print(\"Eksik değerlerin sayısı (doldurulduktan sonra):\", kontrol2)"
   ]
  },
  {
   "cell_type": "markdown",
   "id": "32705ee2",
   "metadata": {},
   "source": [
    "84:89 İÇİN"
   ]
  },
  {
   "cell_type": "code",
   "execution_count": null,
   "id": "5ad604f4",
   "metadata": {},
   "outputs": [],
   "source": [
    "# Belirli şartları sağlayan satırları filtreleme\n",
    "filtre = (df['KategoriAdı1'] == 'GIDA') & \\\n",
    "         (df['KategoriAdı2'] == 'UNLU MAMÜLLER')\n",
    "\n",
    "# Eksik değerlerin sayısını kontrol et\n",
    "kontrol1 = df.loc[filtre, 'KategoriAdı3'].isnull().sum()\n",
    "print(\"Eksik değerlerin sayısı:\", kontrol1)\n",
    "\n",
    "# En sık geçen Kategori Adı3  bulma\n",
    "en_sik_marka = df.loc[filtre, 'KategoriAdı3'].mode()[0]\n",
    "print(\"En sık geçen marka:\", en_sik_marka)\n",
    "\n",
    "# Eksik değerleri doldurma\n",
    "df.loc[filtre, 'KategoriAdı3'] = df.loc[filtre, 'KategoriAdı3'].fillna(en_sik_marka)\n",
    "\n",
    "# Kontrol etme\n",
    "kontrol2 = df.loc[filtre, 'KategoriAdı3'].isnull().sum()\n",
    "print(\"Eksik değerlerin sayısı (doldurulduktan sonra):\", kontrol2)"
   ]
  },
  {
   "cell_type": "markdown",
   "id": "5083f3f4",
   "metadata": {},
   "source": [
    "90:93 İÇİN"
   ]
  },
  {
   "cell_type": "code",
   "execution_count": null,
   "id": "1d00903c",
   "metadata": {},
   "outputs": [],
   "source": [
    "# Belirli şartları sağlayan satırları filtreleme\n",
    "filtre = (df['KategoriAdı1'] == 'KOZMETİK') & \\\n",
    "         (df['KategoriAdı2'] == 'AĞIZ BAKIM')\n",
    "\n",
    "# Eksik değerlerin sayısını kontrol et\n",
    "kontrol1 = df.loc[filtre, 'KategoriAdı3'].isnull().sum()\n",
    "print(\"Eksik değerlerin sayısı:\", kontrol1)\n",
    "\n",
    "# En sık geçen Kategori Adı3  bulma\n",
    "en_sik_marka = df.loc[filtre, 'KategoriAdı3'].mode()[0]\n",
    "print(\"En sık geçen marka:\", en_sik_marka)\n",
    "\n",
    "# Eksik değerleri doldurma\n",
    "df.loc[filtre, 'KategoriAdı3'] = df.loc[filtre, 'KategoriAdı3'].fillna(en_sik_marka)\n",
    "\n",
    "# Kontrol etme\n",
    "kontrol2 = df.loc[filtre, 'KategoriAdı3'].isnull().sum()\n",
    "print(\"Eksik değerlerin sayısı (doldurulduktan sonra):\", kontrol2)"
   ]
  },
  {
   "cell_type": "markdown",
   "id": "55493b84",
   "metadata": {},
   "source": [
    "94:96 İÇİN"
   ]
  },
  {
   "cell_type": "code",
   "execution_count": null,
   "id": "19464d6e",
   "metadata": {},
   "outputs": [],
   "source": [
    "# Belirli şartları sağlayan satırları filtreleme\n",
    "filtre = (df['KategoriAdı1'] == 'KOZMETİK') & \\\n",
    "         (df['KategoriAdı2'] == 'DUŞ BANYO')\n",
    "\n",
    "# Eksik değerlerin sayısını kontrol et\n",
    "kontrol1 = df.loc[filtre, 'KategoriAdı3'].isnull().sum()\n",
    "print(\"Eksik değerlerin sayısı:\", kontrol1)\n",
    "\n",
    "# En sık geçen Kategori Adı3  bulma\n",
    "en_sik_marka = df.loc[filtre, 'KategoriAdı3'].mode()[0]\n",
    "print(\"En sık geçen marka:\", en_sik_marka)\n",
    "\n",
    "# Eksik değerleri doldurma\n",
    "df.loc[filtre, 'KategoriAdı3'] = df.loc[filtre, 'KategoriAdı3'].fillna(en_sik_marka)\n",
    "\n",
    "# Kontrol etme\n",
    "kontrol2 = df.loc[filtre, 'KategoriAdı3'].isnull().sum()\n",
    "print(\"Eksik değerlerin sayısı (doldurulduktan sonra):\", kontrol2)"
   ]
  },
  {
   "cell_type": "markdown",
   "id": "59aad6b8",
   "metadata": {},
   "source": [
    "97:101 İÇİN"
   ]
  },
  {
   "cell_type": "code",
   "execution_count": null,
   "id": "94fa46c6",
   "metadata": {},
   "outputs": [],
   "source": [
    "# Belirli şartları sağlayan satırları filtreleme\n",
    "filtre = (df['KategoriAdı1'] == 'KOZMETİK') & \\\n",
    "         (df['KategoriAdı2'] == 'MAKYAJ MALZEMELERİ')\n",
    "\n",
    "# Eksik değerlerin sayısını kontrol et\n",
    "kontrol1 = df.loc[filtre, 'KategoriAdı3'].isnull().sum()\n",
    "print(\"Eksik değerlerin sayısı:\", kontrol1)\n",
    "\n",
    "# En sık geçen Kategori Adı3  bulma\n",
    "en_sik_marka = df.loc[filtre, 'KategoriAdı3'].mode()[0]\n",
    "print(\"En sık geçen marka:\", en_sik_marka)\n",
    "\n",
    "# Eksik değerleri doldurma\n",
    "df.loc[filtre, 'KategoriAdı3'] = df.loc[filtre, 'KategoriAdı3'].fillna(en_sik_marka)\n",
    "\n",
    "# Kontrol etme\n",
    "kontrol2 = df.loc[filtre, 'KategoriAdı3'].isnull().sum()\n",
    "print(\"Eksik değerlerin sayısı (doldurulduktan sonra):\", kontrol2)"
   ]
  },
  {
   "cell_type": "markdown",
   "id": "e81d1c4d",
   "metadata": {},
   "source": [
    "102:106 İÇİN"
   ]
  },
  {
   "cell_type": "code",
   "execution_count": null,
   "id": "349b9787",
   "metadata": {},
   "outputs": [],
   "source": [
    "# Belirli şartları sağlayan satırları filtreleme\n",
    "filtre = (df['KategoriAdı1'] == 'KOZMETİK') & \\\n",
    "         (df['KategoriAdı2'] == 'PARFÜM DEODORANT')\n",
    "\n",
    "# Eksik değerlerin sayısını kontrol et\n",
    "kontrol1 = df.loc[filtre, 'KategoriAdı3'].isnull().sum()\n",
    "print(\"Eksik değerlerin sayısı:\", kontrol1)\n",
    "\n",
    "# En sık geçen Kategori Adı3  bulma\n",
    "en_sik_marka = df.loc[filtre, 'KategoriAdı3'].mode()[0]\n",
    "print(\"En sık geçen marka:\", en_sik_marka)\n",
    "\n",
    "# Eksik değerleri doldurma\n",
    "df.loc[filtre, 'KategoriAdı3'] = df.loc[filtre, 'KategoriAdı3'].fillna(en_sik_marka)\n",
    "\n",
    "# Kontrol etme\n",
    "kontrol2 = df.loc[filtre, 'KategoriAdı3'].isnull().sum()\n",
    "print(\"Eksik değerlerin sayısı (doldurulduktan sonra):\", kontrol2)"
   ]
  },
  {
   "cell_type": "markdown",
   "id": "c4b3d782",
   "metadata": {},
   "source": [
    "107:110 İÇİN "
   ]
  },
  {
   "cell_type": "code",
   "execution_count": null,
   "id": "59d250a6",
   "metadata": {},
   "outputs": [],
   "source": [
    "# Belirli şartları sağlayan satırları filtreleme\n",
    "filtre = (df['KategoriAdı1'] == 'KOZMETİK') & \\\n",
    "         (df['KategoriAdı2'] == 'SAÇ BAKIM')\n",
    "\n",
    "# Eksik değerlerin sayısını kontrol et\n",
    "kontrol1 = df.loc[filtre, 'KategoriAdı3'].isnull().sum()\n",
    "print(\"Eksik değerlerin sayısı:\", kontrol1)\n",
    "\n",
    "# En sık geçen Kategori Adı3  bulma\n",
    "en_sik_marka = df.loc[filtre, 'KategoriAdı3'].mode()[0]\n",
    "print(\"En sık geçen marka:\", en_sik_marka)\n",
    "\n",
    "# Eksik değerleri doldurma\n",
    "df.loc[filtre, 'KategoriAdı3'] = df.loc[filtre, 'KategoriAdı3'].fillna(en_sik_marka)\n",
    "\n",
    "# Kontrol etme\n",
    "kontrol2 = df.loc[filtre, 'KategoriAdı3'].isnull().sum()\n",
    "print(\"Eksik değerlerin sayısı (doldurulduktan sonra):\", kontrol2)"
   ]
  },
  {
   "cell_type": "markdown",
   "id": "64eb1040",
   "metadata": {},
   "source": [
    "111:114 İÇİN"
   ]
  },
  {
   "cell_type": "code",
   "execution_count": null,
   "id": "aaf86dd3",
   "metadata": {},
   "outputs": [],
   "source": [
    "# Belirli şartları sağlayan satırları filtreleme\n",
    "filtre = (df['KategoriAdı1'] == 'KOZMETİK') & \\\n",
    "         (df['KategoriAdı2'] == 'TRAŞ MALZEMELERİ')\n",
    "\n",
    "# Eksik değerlerin sayısını kontrol et\n",
    "kontrol1 = df.loc[filtre, 'KategoriAdı3'].isnull().sum()\n",
    "print(\"Eksik değerlerin sayısı:\", kontrol1)\n",
    "\n",
    "# En sık geçen Kategori Adı3  bulma\n",
    "en_sik_marka = df.loc[filtre, 'KategoriAdı3'].mode()[0]\n",
    "print(\"En sık geçen marka:\", en_sik_marka)\n",
    "\n",
    "# Eksik değerleri doldurma\n",
    "df.loc[filtre, 'KategoriAdı3'] = df.loc[filtre, 'KategoriAdı3'].fillna(en_sik_marka)\n",
    "\n",
    "# Kontrol etme\n",
    "kontrol2 = df.loc[filtre, 'KategoriAdı3'].isnull().sum()\n",
    "print(\"Eksik değerlerin sayısı (doldurulduktan sonra):\", kontrol2)"
   ]
  },
  {
   "cell_type": "markdown",
   "id": "2a74342e",
   "metadata": {},
   "source": [
    "115 VE 116 İÇİN"
   ]
  },
  {
   "cell_type": "code",
   "execution_count": null,
   "id": "63d444e9",
   "metadata": {},
   "outputs": [],
   "source": [
    "# Belirli şartları sağlayan satırları filtreleme\n",
    "filtre = (df['KategoriAdı1'] == 'KOZMETİK') & \\\n",
    "         (df['KategoriAdı2'] == 'VUCUT EL BAKIMI')\n",
    "\n",
    "# Eksik değerlerin sayısını kontrol et\n",
    "kontrol1 = df.loc[filtre, 'KategoriAdı3'].isnull().sum()\n",
    "print(\"Eksik değerlerin sayısı:\", kontrol1)\n",
    "\n",
    "# En sık geçen Kategori Adı3  bulma\n",
    "en_sik_marka = df.loc[filtre, 'KategoriAdı3'].mode()[0]\n",
    "print(\"En sık geçen marka:\", en_sik_marka)\n",
    "\n",
    "# Eksik değerleri doldurma\n",
    "df.loc[filtre, 'KategoriAdı3'] = df.loc[filtre, 'KategoriAdı3'].fillna(en_sik_marka)\n",
    "\n",
    "# Kontrol etme\n",
    "kontrol2 = df.loc[filtre, 'KategoriAdı3'].isnull().sum()\n",
    "print(\"Eksik değerlerin sayısı (doldurulduktan sonra):\", kontrol2)"
   ]
  },
  {
   "cell_type": "markdown",
   "id": "c92baf05",
   "metadata": {},
   "source": [
    "117 İÇİN"
   ]
  },
  {
   "cell_type": "code",
   "execution_count": null,
   "id": "278e8702",
   "metadata": {},
   "outputs": [],
   "source": [
    "# Belirli şartları sağlayan satırları filtreleme\n",
    "filtre = (df['KategoriAdı1'] == 'KOZMETİK') & \\\n",
    "         (df['KategoriAdı2'] == 'YÜZ BAKIMI')\n",
    "\n",
    "# Eksik değerlerin sayısını kontrol et\n",
    "kontrol1 = df.loc[filtre, 'KategoriAdı3'].isnull().sum()\n",
    "print(\"Eksik değerlerin sayısı:\", kontrol1)\n",
    "\n",
    "# En sık geçen Kategori Adı3  bulma\n",
    "en_sik_marka = df.loc[filtre, 'KategoriAdı3'].mode()[0]\n",
    "print(\"En sık geçen marka:\", en_sik_marka)\n",
    "\n",
    "# Eksik değerleri doldurma\n",
    "df.loc[filtre, 'KategoriAdı3'] = df.loc[filtre, 'KategoriAdı3'].fillna(en_sik_marka)\n",
    "\n",
    "# Kontrol etme\n",
    "kontrol2 = df.loc[filtre, 'KategoriAdı3'].isnull().sum()\n",
    "print(\"Eksik değerlerin sayısı (doldurulduktan sonra):\", kontrol2)"
   ]
  },
  {
   "cell_type": "markdown",
   "id": "86f20dff",
   "metadata": {},
   "source": [
    "118 :123 İÇİN"
   ]
  },
  {
   "cell_type": "code",
   "execution_count": null,
   "id": "349d10cd",
   "metadata": {},
   "outputs": [],
   "source": [
    "# Belirli şartları sağlayan satırları filtreleme\n",
    "filtre = (df['KategoriAdı1'] == 'SÜT KAHVALTILIK') & \\\n",
    "         (df['KategoriAdı2'] == 'KAHVALTILIK')\n",
    "\n",
    "# Eksik değerlerin sayısını kontrol et\n",
    "kontrol1 = df.loc[filtre, 'KategoriAdı3'].isnull().sum()\n",
    "print(\"Eksik değerlerin sayısı:\", kontrol1)\n",
    "\n",
    "# En sık geçen Kategori Adı3  bulma\n",
    "en_sik_marka = df.loc[filtre, 'KategoriAdı3'].mode()[0]\n",
    "print(\"En sık geçen marka:\", en_sik_marka)\n",
    "\n",
    "# Eksik değerleri doldurma\n",
    "df.loc[filtre, 'KategoriAdı3'] = df.loc[filtre, 'KategoriAdı3'].fillna(en_sik_marka)\n",
    "\n",
    "# Kontrol etme\n",
    "kontrol2 = df.loc[filtre, 'KategoriAdı3'].isnull().sum()\n",
    "print(\"Eksik değerlerin sayısı (doldurulduktan sonra):\", kontrol2)"
   ]
  },
  {
   "cell_type": "markdown",
   "id": "229d8475",
   "metadata": {},
   "source": [
    "124:126 İÇİN "
   ]
  },
  {
   "cell_type": "code",
   "execution_count": null,
   "id": "085f6685",
   "metadata": {},
   "outputs": [],
   "source": [
    "# Belirli şartları sağlayan satırları filtreleme\n",
    "filtre = (df['KategoriAdı1'] == 'SÜT KAHVALTILIK') & \\\n",
    "         (df['KategoriAdı2'] == 'PEYNİR')\n",
    "\n",
    "# Eksik değerlerin sayısını kontrol et\n",
    "kontrol1 = df.loc[filtre, 'KategoriAdı3'].isnull().sum()\n",
    "print(\"Eksik değerlerin sayısı:\", kontrol1)\n",
    "\n",
    "# En sık geçen Kategori Adı3  bulma\n",
    "en_sik_marka = df.loc[filtre, 'KategoriAdı3'].mode()[0]\n",
    "print(\"En sık geçen marka:\", en_sik_marka)\n",
    "\n",
    "# Eksik değerleri doldurma\n",
    "df.loc[filtre, 'KategoriAdı3'] = df.loc[filtre, 'KategoriAdı3'].fillna(en_sik_marka)\n",
    "\n",
    "# Kontrol etme\n",
    "kontrol2 = df.loc[filtre, 'KategoriAdı3'].isnull().sum()\n",
    "print(\"Eksik değerlerin sayısı (doldurulduktan sonra):\", kontrol2)"
   ]
  },
  {
   "cell_type": "markdown",
   "id": "266db2bf",
   "metadata": {},
   "source": [
    "127:129 İÇİN"
   ]
  },
  {
   "cell_type": "code",
   "execution_count": null,
   "id": "639e39bc",
   "metadata": {},
   "outputs": [],
   "source": [
    "# Belirli şartları sağlayan satırları filtreleme\n",
    "filtre = (df['KategoriAdı1'] == 'SÜT KAHVALTILIK') & \\\n",
    "         (df['KategoriAdı2'] == 'SÜT')\n",
    "\n",
    "# Eksik değerlerin sayısını kontrol et\n",
    "kontrol1 = df.loc[filtre, 'KategoriAdı3'].isnull().sum()\n",
    "print(\"Eksik değerlerin sayısı:\", kontrol1)\n",
    "\n",
    "# En sık geçen Kategori Adı3  bulma\n",
    "en_sik_marka = df.loc[filtre, 'KategoriAdı3'].mode()[0]\n",
    "print(\"En sık geçen marka:\", en_sik_marka)\n",
    "\n",
    "# Eksik değerleri doldurma\n",
    "df.loc[filtre, 'KategoriAdı3'] = df.loc[filtre, 'KategoriAdı3'].fillna(en_sik_marka)\n",
    "\n",
    "# Kontrol etme\n",
    "kontrol2 = df.loc[filtre, 'KategoriAdı3'].isnull().sum()\n",
    "print(\"Eksik değerlerin sayısı (doldurulduktan sonra):\", kontrol2)"
   ]
  },
  {
   "cell_type": "markdown",
   "id": "f6d26a73",
   "metadata": {},
   "source": [
    "130:132 İÇİN "
   ]
  },
  {
   "cell_type": "code",
   "execution_count": null,
   "id": "dcb24843",
   "metadata": {},
   "outputs": [],
   "source": [
    "# Belirli şartları sağlayan satırları filtreleme\n",
    "filtre = (df['KategoriAdı1'] == 'SÜT KAHVALTILIK') & \\\n",
    "         (df['KategoriAdı2'] == 'SÜTLÜ TATLILAR DONDURMA')\n",
    "\n",
    "# Eksik değerlerin sayısını kontrol et\n",
    "kontrol1 = df.loc[filtre, 'KategoriAdı3'].isnull().sum()\n",
    "print(\"Eksik değerlerin sayısı:\", kontrol1)\n",
    "\n",
    "# En sık geçen Kategori Adı3  bulma\n",
    "en_sik_marka = df.loc[filtre, 'KategoriAdı3'].mode()[0]\n",
    "print(\"En sık geçen marka:\", en_sik_marka)\n",
    "\n",
    "# Eksik değerleri doldurma\n",
    "df.loc[filtre, 'KategoriAdı3'] = df.loc[filtre, 'KategoriAdı3'].fillna(en_sik_marka)\n",
    "\n",
    "# Kontrol etme\n",
    "kontrol2 = df.loc[filtre, 'KategoriAdı3'].isnull().sum()\n",
    "print(\"Eksik değerlerin sayısı (doldurulduktan sonra):\", kontrol2)"
   ]
  },
  {
   "cell_type": "markdown",
   "id": "4c59f48a",
   "metadata": {},
   "source": [
    "133:134 İÇİN"
   ]
  },
  {
   "cell_type": "code",
   "execution_count": null,
   "id": "585f1af2",
   "metadata": {},
   "outputs": [],
   "source": [
    "# Belirli şartları sağlayan satırları filtreleme\n",
    "filtre = (df['KategoriAdı1'] == 'SÜT KAHVALTILIK') & \\\n",
    "         (df['KategoriAdı2'] == 'TEREYAĞ MARGARİN')\n",
    "\n",
    "# Eksik değerlerin sayısını kontrol et\n",
    "kontrol1 = df.loc[filtre, 'KategoriAdı3'].isnull().sum()\n",
    "print(\"Eksik değerlerin sayısı:\", kontrol1)\n",
    "\n",
    "# En sık geçen Kategori Adı3  bulma\n",
    "en_sik_marka = df.loc[filtre, 'KategoriAdı3'].mode()[0]\n",
    "print(\"En sık geçen marka:\", en_sik_marka)\n",
    "\n",
    "# Eksik değerleri doldurma\n",
    "df.loc[filtre, 'KategoriAdı3'] = df.loc[filtre, 'KategoriAdı3'].fillna(en_sik_marka)\n",
    "\n",
    "# Kontrol etme\n",
    "kontrol2 = df.loc[filtre, 'KategoriAdı3'].isnull().sum()\n",
    "print(\"Eksik değerlerin sayısı (doldurulduktan sonra):\", kontrol2)"
   ]
  },
  {
   "cell_type": "markdown",
   "id": "7dffbfd8",
   "metadata": {},
   "source": [
    "135 VE 136 İÇİN"
   ]
  },
  {
   "cell_type": "code",
   "execution_count": null,
   "id": "15fa524a",
   "metadata": {},
   "outputs": [],
   "source": [
    "# Belirli şartları sağlayan satırları filtreleme\n",
    "filtre = (df['KategoriAdı1'] == 'SÜT KAHVALTILIK') & \\\n",
    "         (df['KategoriAdı2'] == 'YOĞURT')\n",
    "\n",
    "# Eksik değerlerin sayısını kontrol et\n",
    "kontrol1 = df.loc[filtre, 'KategoriAdı3'].isnull().sum()\n",
    "print(\"Eksik değerlerin sayısı:\", kontrol1)\n",
    "\n",
    "# En sık geçen Kategori Adı3  bulma\n",
    "en_sik_marka = df.loc[filtre, 'KategoriAdı3'].mode()[0]\n",
    "print(\"En sık geçen marka:\", en_sik_marka)\n",
    "\n",
    "# Eksik değerleri doldurma\n",
    "df.loc[filtre, 'KategoriAdı3'] = df.loc[filtre, 'KategoriAdı3'].fillna(en_sik_marka)\n",
    "\n",
    "# Kontrol etme\n",
    "kontrol2 = df.loc[filtre, 'KategoriAdı3'].isnull().sum()\n",
    "print(\"Eksik değerlerin sayısı (doldurulduktan sonra):\", kontrol2)"
   ]
  },
  {
   "cell_type": "markdown",
   "id": "d84406f7",
   "metadata": {},
   "source": [
    "137 İÇİN"
   ]
  },
  {
   "cell_type": "code",
   "execution_count": null,
   "id": "68d826f0",
   "metadata": {},
   "outputs": [],
   "source": [
    "# Belirli şartları sağlayan satırları filtreleme\n",
    "filtre = (df['KategoriAdı1'] == 'SÜT KAHVALTILIK') & \\\n",
    "         (df['KategoriAdı2'] == 'YUMURTA')\n",
    "\n",
    "# Eksik değerlerin sayısını kontrol et\n",
    "kontrol1 = df.loc[filtre, 'KategoriAdı3'].isnull().sum()\n",
    "print(\"Eksik değerlerin sayısı:\", kontrol1)\n",
    "\n",
    "# En sık geçen Kategori Adı3  bulma\n",
    "en_sik_marka = df.loc[filtre, 'KategoriAdı3'].mode()[0]\n",
    "print(\"En sık geçen marka:\", en_sik_marka)\n",
    "\n",
    "# Eksik değerleri doldurma\n",
    "df.loc[filtre, 'KategoriAdı3'] = df.loc[filtre, 'KategoriAdı3'].fillna(en_sik_marka)\n",
    "\n",
    "# Kontrol etme\n",
    "kontrol2 = df.loc[filtre, 'KategoriAdı3'].isnull().sum()\n",
    "print(\"Eksik değerlerin sayısı (doldurulduktan sonra):\", kontrol2)"
   ]
  },
  {
   "cell_type": "markdown",
   "id": "a6023db9",
   "metadata": {},
   "source": [
    "138 VE 139 İÇİN"
   ]
  },
  {
   "cell_type": "code",
   "execution_count": null,
   "id": "0b8d9bf4",
   "metadata": {},
   "outputs": [],
   "source": [
    "# Belirli şartları sağlayan satırları filtreleme\n",
    "filtre = (df['KategoriAdı1'] == 'SÜT KAHVALTILIK') & \\\n",
    "         (df['KategoriAdı2'] == 'ZEYTİN')\n",
    "\n",
    "# Eksik değerlerin sayısını kontrol et\n",
    "kontrol1 = df.loc[filtre, 'KategoriAdı3'].isnull().sum()\n",
    "print(\"Eksik değerlerin sayısı:\", kontrol1)\n",
    "\n",
    "# En sık geçen Kategori Adı3  bulma\n",
    "en_sik_marka = df.loc[filtre, 'KategoriAdı3'].mode()[0]\n",
    "print(\"En sık geçen marka:\", en_sik_marka)\n",
    "\n",
    "# Eksik değerleri doldurma\n",
    "df.loc[filtre, 'KategoriAdı3'] = df.loc[filtre, 'KategoriAdı3'].fillna(en_sik_marka)\n",
    "\n",
    "# Kontrol etme\n",
    "kontrol2 = df.loc[filtre, 'KategoriAdı3'].isnull().sum()\n",
    "print(\"Eksik değerlerin sayısı (doldurulduktan sonra):\", kontrol2)"
   ]
  },
  {
   "cell_type": "markdown",
   "id": "e81b4473",
   "metadata": {},
   "source": [
    "140:142 İÇİN"
   ]
  },
  {
   "cell_type": "code",
   "execution_count": null,
   "id": "735e0d9f",
   "metadata": {},
   "outputs": [],
   "source": [
    "# Belirli şartları sağlayan satırları filtreleme\n",
    "filtre = (df['KategoriAdı1'] == 'İÇECEK') & \\\n",
    "         (df['KategoriAdı2'] == 'GAZLI İÇECEK')\n",
    "\n",
    "# Eksik değerlerin sayısını kontrol et\n",
    "kontrol1 = df.loc[filtre, 'KategoriAdı3'].isnull().sum()\n",
    "print(\"Eksik değerlerin sayısı:\", kontrol1)\n",
    "\n",
    "# En sık geçen Kategori Adı3  bulma\n",
    "en_sik_marka = df.loc[filtre, 'KategoriAdı3'].mode()[0]\n",
    "print(\"En sık geçen marka:\", en_sik_marka)\n",
    "\n",
    "# Eksik değerleri doldurma\n",
    "df.loc[filtre, 'KategoriAdı3'] = df.loc[filtre, 'KategoriAdı3'].fillna(en_sik_marka)\n",
    "\n",
    "# Kontrol etme\n",
    "kontrol2 = df.loc[filtre, 'KategoriAdı3'].isnull().sum()\n",
    "print(\"Eksik değerlerin sayısı (doldurulduktan sonra):\", kontrol2)"
   ]
  },
  {
   "cell_type": "markdown",
   "id": "79355e25",
   "metadata": {},
   "source": [
    "142:148 İÇİN"
   ]
  },
  {
   "cell_type": "code",
   "execution_count": null,
   "id": "a3892ff6",
   "metadata": {},
   "outputs": [],
   "source": [
    "# Belirli şartları sağlayan satırları filtreleme\n",
    "filtre = (df['KategoriAdı1'] == 'İÇECEK') & \\\n",
    "         (df['KategoriAdı2'] == 'GAZSIZ İÇECEK')\n",
    "\n",
    "# Eksik değerlerin sayısını kontrol et\n",
    "kontrol1 = df.loc[filtre, 'KategoriAdı3'].isnull().sum()\n",
    "print(\"Eksik değerlerin sayısı:\", kontrol1)\n",
    "\n",
    "# En sık geçen Kategori Adı3  bulma\n",
    "en_sik_marka = df.loc[filtre, 'KategoriAdı3'].mode()[0]\n",
    "print(\"En sık geçen marka:\", en_sik_marka)\n",
    "\n",
    "# Eksik değerleri doldurma\n",
    "df.loc[filtre, 'KategoriAdı3'] = df.loc[filtre, 'KategoriAdı3'].fillna(en_sik_marka)\n",
    "\n",
    "# Kontrol etme\n",
    "kontrol2 = df.loc[filtre, 'KategoriAdı3'].isnull().sum()\n",
    "print(\"Eksik değerlerin sayısı (doldurulduktan sonra):\", kontrol2)"
   ]
  },
  {
   "cell_type": "markdown",
   "id": "e3b22983",
   "metadata": {},
   "source": [
    "149 İÇİN"
   ]
  },
  {
   "cell_type": "code",
   "execution_count": null,
   "id": "08b61736",
   "metadata": {},
   "outputs": [],
   "source": [
    "# Belirli şartları sağlayan satırları filtreleme\n",
    "filtre = (df['KategoriAdı1'] == 'İÇECEK') & \\\n",
    "         (df['KategoriAdı2'] == 'GÜNLÜK İÇECEK')\n",
    "\n",
    "# Eksik değerlerin sayısını kontrol et\n",
    "kontrol1 = df.loc[filtre, 'KategoriAdı3'].isnull().sum()\n",
    "print(\"Eksik değerlerin sayısı:\", kontrol1)\n",
    "\n",
    "# En sık geçen Kategori Adı3  bulma\n",
    "en_sik_marka = df.loc[filtre, 'KategoriAdı3'].mode()[0]\n",
    "print(\"En sık geçen marka:\", en_sik_marka)\n",
    "\n",
    "# Eksik değerleri doldurma\n",
    "df.loc[filtre, 'KategoriAdı3'] = df.loc[filtre, 'KategoriAdı3'].fillna(en_sik_marka)\n",
    "\n",
    "# Kontrol etme\n",
    "kontrol2 = df.loc[filtre, 'KategoriAdı3'].isnull().sum()\n",
    "print(\"Eksik değerlerin sayısı (doldurulduktan sonra):\", kontrol2)"
   ]
  },
  {
   "cell_type": "markdown",
   "id": "257ecdd0",
   "metadata": {},
   "source": [
    "150 VE 151 İÇİN"
   ]
  },
  {
   "cell_type": "code",
   "execution_count": null,
   "id": "b7310dce",
   "metadata": {},
   "outputs": [],
   "source": [
    "# Belirli şartları sağlayan satırları filtreleme\n",
    "filtre = (df['KategoriAdı1'] == 'İÇECEK') & \\\n",
    "         (df['KategoriAdı2'] == 'SU MADENSUYU')\n",
    "\n",
    "# Eksik değerlerin sayısını kontrol et\n",
    "kontrol1 = df.loc[filtre, 'KategoriAdı3'].isnull().sum()\n",
    "print(\"Eksik değerlerin sayısı:\", kontrol1)\n",
    "\n",
    "# En sık geçen Kategori Adı3  bulma\n",
    "en_sik_marka = df.loc[filtre, 'KategoriAdı3'].mode()[0]\n",
    "print(\"En sık geçen marka:\", en_sik_marka)\n",
    "\n",
    "# Eksik değerleri doldurma\n",
    "df.loc[filtre, 'KategoriAdı3'] = df.loc[filtre, 'KategoriAdı3'].fillna(en_sik_marka)\n",
    "\n",
    "# Kontrol etme\n",
    "kontrol2 = df.loc[filtre, 'KategoriAdı3'].isnull().sum()\n",
    "print(\"Eksik değerlerin sayısı (doldurulduktan sonra):\", kontrol2)"
   ]
  },
  {
   "cell_type": "code",
   "execution_count": null,
   "id": "9c3a8994",
   "metadata": {},
   "outputs": [],
   "source": [
    "# Belirli şartları sağlayan satırları filtreleme\n",
    "filtre = (df['KategoriAdı1'] == 'İÇECEK') & \\\n",
    "         (df['KategoriAdı2'] == 'ÇAY KAHVE')\n",
    "\n",
    "# Eksik değerlerin sayısını kontrol et\n",
    "kontrol1 = df.loc[filtre, 'KategoriAdı3'].isnull().sum()\n",
    "print(\"Eksik değerlerin sayısı:\", kontrol1)\n",
    "\n",
    "# En sık geçen Kategori Adı3  bulma\n",
    "en_sik_marka = df.loc[filtre, 'KategoriAdı3'].mode()[0]\n",
    "print(\"En sık geçen marka:\", en_sik_marka)\n",
    "\n",
    "# Eksik değerleri doldurma\n",
    "df.loc[filtre, 'KategoriAdı3'] = df.loc[filtre, 'KategoriAdı3'].fillna(en_sik_marka)\n",
    "\n",
    "# Kontrol etme\n",
    "kontrol2 = df.loc[filtre, 'KategoriAdı3'].isnull().sum()\n",
    "print(\"Eksik değerlerin sayısı (doldurulduktan sonra):\", kontrol2)"
   ]
  },
  {
   "cell_type": "markdown",
   "id": "39f14ef2",
   "metadata": {},
   "source": [
    "fonksiyon ile doldurmak kodun çalışma süresi uzun sürdügü için tablodan ilerledim isteyenler için for döngüsü kulanılmış şeklini bırakıyorum"
   ]
  },
  {
   "cell_type": "code",
   "execution_count": null,
   "id": "a1c245b5",
   "metadata": {},
   "outputs": [],
   "source": [
    "for i, row in tablo.iterrows():\n",
    "    kategori_adı_1 = row['KategoriAdı1']\n",
    "    kategori_adı_2 = row['KategoriAdı2']\n",
    "    eksik_deger_sayisi = row['Sayı']\n",
    "    \n",
    "    print(f\"{kategori_adı_1} - {kategori_adı_2} için eksik değerlerin sayısı:\", eksik_deger_sayisi)\n",
    "    \n",
    "    # Eksik değer varsa işlem yap\n",
    "    if eksik_deger_sayisi > 0:\n",
    "        # Belirli kriterlere göre filtreleme\n",
    "        filtre = (df['KategoriAdı1'] == kategori_adı_1) & (df['KategoriAdı2'] == kategori_adı_2)\n",
    "        \n",
    "        # En sık geçen KategoriAdı3 değerini bulma\n",
    "        en_sik_kategori_adı_3 = df.loc[filtre, 'KategoriAdı3'].mode()\n",
    "        \n",
    "        # Eğer en sık geçen değer varsa\n",
    "        if not en_sik_kategori_adı_3.empty:\n",
    "            # Eksik değerleri en sık geçen değerle doldurma\n",
    "            df.loc[filtre, 'KategoriAdı3'] = df.loc[filtre, 'KategoriAdı3'].fillna(en_sik_kategori_adı_3.iloc[0])\n",
    "            \n",
    "            # Kontrol etme\n",
    "            kontrol = df.loc[filtre, 'KategoriAdı3'].isnull().sum()\n",
    "            print(f\"{kategori_adı_1} - {kategori_adı_2} için eksik değerlerin sayısı (doldurulduktan sonra):\", kontrol)\n",
    "        else:\n",
    "            print(f\"{kategori_adı_1} - {kategori_adı_2} için en sık geçen KategoriAdı3 bulunamadı.\")"
   ]
  },
  {
   "cell_type": "code",
   "execution_count": null,
   "id": "8293b2c8",
   "metadata": {},
   "outputs": [],
   "source": [
    "df.isnull().sum()"
   ]
  },
  {
   "cell_type": "code",
   "execution_count": null,
   "id": "1d43beb4",
   "metadata": {},
   "outputs": [],
   "source": [
    "df.drop('KategoriAdı3', axis=1)"
   ]
  },
  {
   "cell_type": "markdown",
   "id": "23d1dbf7",
   "metadata": {},
   "source": [
    "KategoriAdı3 kolonunu düşürmek zorunda kalıyoruz çünkü bu projenin amacı Power BI de rapor hazırlamak oldugu için KategoriAdı3 deki nan degerler silindigi zaman int degerler de düşürelecegi için toplam tutar ,toplam miktar rakamlarda büyük oranda farklılık olurdu yukararıdeki kodlarda doldurulacak max kategaori3 kodları verilmiştir rapor hazırlama degil ML için kullanılacagı zaman kodllar kullanılabilir "
   ]
  },
  {
   "cell_type": "code",
   "execution_count": null,
   "id": "8056a2df",
   "metadata": {},
   "outputs": [],
   "source": [
    "#gruplanmis_df = df.groupby(['ÜrünAdı','KategoriAdı1', 'KategoriAdı2','' df['KategoriAdı3'].isnull()]).size().reset_index(name='Sayı')\n",
    "#print(gruplanmis_df)\n",
    "\n",
    "# Create a new column indicating missing values in 'KategoriAdı3'\n",
    "df['KategoriAdı3_isnull'] = df['KategoriAdı3'].isnull()\n",
    "\n",
    "# Group by and count occurrences\n",
    "gruplanmis_df = df.groupby(['ÜrünAdı', 'KategoriAdı1', 'KategoriAdı2', 'KategoriAdı3_isnull']).size().reset_index(name='Sayı')\n",
    "# Call the reset_index method to create a new DataFrame\n",
    "tablo2 = gruplanmis_df.reset_index()\n",
    "\n",
    "# Print the grouped DataFrame\n",
    "print(tablo2)\n"
   ]
  },
  {
   "cell_type": "code",
   "execution_count": null,
   "id": "16b3b452",
   "metadata": {},
   "outputs": [],
   "source": [
    "# Belirli şartları sağlayan satırları filtreleme\n",
    "filtre = (df['KategoriAdı1'] == 'GIDA') & \\\n",
    "         (df['KategoriAdı2'] == 'ÇİKOLATA GOFRET')\n",
    "\n",
    "# Eksik değerlerin sayısını kontrol et\n",
    "kontrol1 = df.loc[filtre, 'KategoriAdı3'].isnull().sum()\n",
    "print(\"Eksik değerlerin sayısı:\", kontrol1)\n",
    "\n",
    "# En sık geçen Kategori Adı3  bulma\n",
    "en_sik_marka = df.loc[filtre, 'KategoriAdı3'].mode()[0] if not df.loc[filtre, 'KategoriAdı3'].mode().empty else None\n",
    "print(\"En sık geçen marka:\", en_sik_marka)\n",
    "\n",
    "# Eksik değerleri doldurma\n",
    "df.loc[filtre, 'KategoriAdı3'] = df.loc[filtre, 'KategoriAdı3'].fillna(en_sik_marka)\n",
    "\n",
    "# Kontrol etme\n",
    "kontrol2 = df.loc[filtre, 'KategoriAdı3'].isnull().sum()\n",
    "print(\"Eksik değerlerin sayısı (doldurulduktan sonra):\", kontrol2)"
   ]
  },
  {
   "cell_type": "code",
   "execution_count": null,
   "id": "1f5bc5d9",
   "metadata": {},
   "outputs": [],
   "source": [
    "df.isnull().sum()"
   ]
  },
  {
   "cell_type": "code",
   "execution_count": null,
   "id": "86ec29fb",
   "metadata": {},
   "outputs": [],
   "source": [
    "import locale\n",
    "\n",
    "# Türkçe yerel ayarları yükleme\n",
    "locale.setlocale(locale.LC_TIME, 'tr_TR.UTF-8')\n",
    "\n",
    "\n",
    "# Yıl, ay, gün ve haftanın günü sütunlarını oluşturma\n",
    "df['Yil'] = pd.to_datetime(df['BaşlangıçTarihi']).dt.year\n",
    "df['Ay'] = pd.to_datetime(df['BaşlangıçTarihi']).dt.month\n",
    "df['Gun'] = pd.to_datetime(df['BaşlangıçTarihi']).dt.day\n",
    "\n",
    "# Haftanın gününü Türkçe olarak almak için özel bir fonksiyon tanımlama\n",
    "def haftanin_gunu_tr(tarih):\n",
    "    gunler = ['Pazartesi', 'Salı', 'Çarşamba', 'Perşembe', 'Cuma', 'Cumartesi', 'Pazar']\n",
    "    return gunler[tarih.weekday()]\n",
    "\n",
    "df['HaftaninGunu'] = pd.to_datetime(df['BaşlangıçTarihi']).apply(haftanin_gunu_tr)\n",
    "\n",
    "# Sonuçları görüntüleme\n",
    "df.head()"
   ]
  },
  {
   "cell_type": "code",
   "execution_count": null,
   "id": "9d101c59",
   "metadata": {},
   "outputs": [],
   "source": [
    "# Belirli şartları sağlayan satırları filtreleme\n",
    "filtre = (df['KategoriAdı1'] == 'GIDA') & (df['KategoriAdı2'] == 'ÇİKOLATA GOFRET')\n",
    "\n",
    "# Filtreye göre gruplama ve boyutunu alma\n",
    "gruplanmis_df = df[filtre].groupby(['KategoriAdı1', 'KategoriAdı2','KategoriAdı3']).size().reset_index(name='Sayı')\n",
    "print(gruplanmis_df)"
   ]
  },
  {
   "cell_type": "code",
   "execution_count": null,
   "id": "32a9333f",
   "metadata": {},
   "outputs": [],
   "source": [
    "# Ay sütununu metinsel formata dönüştürme\n",
    "aylar = {\n",
    "    1: 'Ocak',\n",
    "    2: 'Şubat',\n",
    "    3: 'Mart',\n",
    "    4: 'Nisan',\n",
    "    5: 'Mayıs',\n",
    "    6:'Haziran',\n",
    "    7:'Temmuz',\n",
    "    8:'Agustos',\n",
    "    9:'Eylül',\n",
    "    10:'Ekim',\n",
    "    11:'Kasım',\n",
    "    12:'Aralık'\n",
    "    # Diğer ayları da ekleyebilirsiniz\n",
    "}\n",
    "df['Ay'] = df['Ay'].map(aylar)\n",
    "\n",
    "# Sonuçları görüntüleme\n",
    "df.head()"
   ]
  },
  {
   "cell_type": "code",
   "execution_count": null,
   "id": "42982bb2",
   "metadata": {},
   "outputs": [],
   "source": [
    "df2= pd.read_csv('son_veri.csv')"
   ]
  },
  {
   "cell_type": "code",
   "execution_count": null,
   "id": "99d5be14",
   "metadata": {},
   "outputs": [],
   "source": [
    "df2.head()"
   ]
  },
  {
   "cell_type": "code",
   "execution_count": null,
   "id": "d9e2ce3e",
   "metadata": {},
   "outputs": [],
   "source": [
    "df2.shape"
   ]
  },
  {
   "cell_type": "code",
   "execution_count": null,
   "id": "62602e29",
   "metadata": {},
   "outputs": [],
   "source": [
    "df2.isnull().sum()"
   ]
  },
  {
   "cell_type": "code",
   "execution_count": null,
   "id": "8784b897",
   "metadata": {},
   "outputs": [],
   "source": [
    "kate"
   ]
  }
 ],
 "metadata": {
  "kernelspec": {
   "display_name": "Python 3 (ipykernel)",
   "language": "python",
   "name": "python3"
  },
  "language_info": {
   "codemirror_mode": {
    "name": "ipython",
    "version": 3
   },
   "file_extension": ".py",
   "mimetype": "text/x-python",
   "name": "python",
   "nbconvert_exporter": "python",
   "pygments_lexer": "ipython3",
   "version": "3.10.9"
  }
 },
 "nbformat": 4,
 "nbformat_minor": 5
}
